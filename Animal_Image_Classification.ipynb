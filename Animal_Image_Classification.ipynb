{
  "nbformat": 4,
  "nbformat_minor": 0,
  "metadata": {
    "colab": {
      "name": "Animal Image Classification",
      "provenance": [],
      "collapsed_sections": [],
      "authorship_tag": "ABX9TyObce/vy5n216PpZRky+gKv"
    },
    "kernelspec": {
      "name": "python3",
      "display_name": "Python 3"
    }
  },
  "cells": [
    {
      "cell_type": "code",
      "metadata": {
        "id": "9KjArX1ONa4W",
        "colab_type": "code",
        "colab": {}
      },
      "source": [
        "import pandas as pd\n",
        "import numpy as np"
      ],
      "execution_count": null,
      "outputs": []
    },
    {
      "cell_type": "code",
      "metadata": {
        "id": "nFLvSJRBN03w",
        "colab_type": "code",
        "colab": {}
      },
      "source": [
        "df = pd.read_csv(\"https://raw.githubusercontent.com/dphi-official/Datasets/master/animal_data/Training_set_animals.csv\")"
      ],
      "execution_count": null,
      "outputs": []
    },
    {
      "cell_type": "code",
      "metadata": {
        "id": "M3e-MqD4ODXD",
        "colab_type": "code",
        "colab": {
          "base_uri": "https://localhost:8080/",
          "height": 343
        },
        "outputId": "e4b4fa31-a330-4abe-e32f-ddc7668748b8"
      },
      "source": [
        "df.head(10)"
      ],
      "execution_count": null,
      "outputs": [
        {
          "output_type": "execute_result",
          "data": {
            "text/html": [
              "<div>\n",
              "<style scoped>\n",
              "    .dataframe tbody tr th:only-of-type {\n",
              "        vertical-align: middle;\n",
              "    }\n",
              "\n",
              "    .dataframe tbody tr th {\n",
              "        vertical-align: top;\n",
              "    }\n",
              "\n",
              "    .dataframe thead th {\n",
              "        text-align: right;\n",
              "    }\n",
              "</style>\n",
              "<table border=\"1\" class=\"dataframe\">\n",
              "  <thead>\n",
              "    <tr style=\"text-align: right;\">\n",
              "      <th></th>\n",
              "      <th>filename</th>\n",
              "      <th>animal_type</th>\n",
              "    </tr>\n",
              "  </thead>\n",
              "  <tbody>\n",
              "    <tr>\n",
              "      <th>0</th>\n",
              "      <td>Image_1.jpg</td>\n",
              "      <td>mucca</td>\n",
              "    </tr>\n",
              "    <tr>\n",
              "      <th>1</th>\n",
              "      <td>Image_2.jpg</td>\n",
              "      <td>mucca</td>\n",
              "    </tr>\n",
              "    <tr>\n",
              "      <th>2</th>\n",
              "      <td>Image_3.jpg</td>\n",
              "      <td>mucca</td>\n",
              "    </tr>\n",
              "    <tr>\n",
              "      <th>3</th>\n",
              "      <td>Image_4.jpg</td>\n",
              "      <td>mucca</td>\n",
              "    </tr>\n",
              "    <tr>\n",
              "      <th>4</th>\n",
              "      <td>Image_5.jpg</td>\n",
              "      <td>mucca</td>\n",
              "    </tr>\n",
              "    <tr>\n",
              "      <th>5</th>\n",
              "      <td>Image_6.jpg</td>\n",
              "      <td>mucca</td>\n",
              "    </tr>\n",
              "    <tr>\n",
              "      <th>6</th>\n",
              "      <td>Image_7.jpg</td>\n",
              "      <td>mucca</td>\n",
              "    </tr>\n",
              "    <tr>\n",
              "      <th>7</th>\n",
              "      <td>Image_8.jpg</td>\n",
              "      <td>mucca</td>\n",
              "    </tr>\n",
              "    <tr>\n",
              "      <th>8</th>\n",
              "      <td>Image_9.jpg</td>\n",
              "      <td>mucca</td>\n",
              "    </tr>\n",
              "    <tr>\n",
              "      <th>9</th>\n",
              "      <td>Image_10.jpg</td>\n",
              "      <td>mucca</td>\n",
              "    </tr>\n",
              "  </tbody>\n",
              "</table>\n",
              "</div>"
            ],
            "text/plain": [
              "       filename animal_type\n",
              "0   Image_1.jpg       mucca\n",
              "1   Image_2.jpg       mucca\n",
              "2   Image_3.jpg       mucca\n",
              "3   Image_4.jpg       mucca\n",
              "4   Image_5.jpg       mucca\n",
              "5   Image_6.jpg       mucca\n",
              "6   Image_7.jpg       mucca\n",
              "7   Image_8.jpg       mucca\n",
              "8   Image_9.jpg       mucca\n",
              "9  Image_10.jpg       mucca"
            ]
          },
          "metadata": {
            "tags": []
          },
          "execution_count": 3
        }
      ]
    },
    {
      "cell_type": "code",
      "metadata": {
        "id": "xQJ2GAJoTs97",
        "colab_type": "code",
        "colab": {
          "base_uri": "https://localhost:8080/",
          "height": 50
        },
        "outputId": "899ed1e7-edc6-40a1-b4e1-037b2933e5ca"
      },
      "source": [
        "df['animal_type'].values"
      ],
      "execution_count": 23,
      "outputs": [
        {
          "output_type": "execute_result",
          "data": {
            "text/plain": [
              "array(['mucca', 'mucca', 'mucca', ..., 'pecora', 'pecora', 'pecora'],\n",
              "      dtype=object)"
            ]
          },
          "metadata": {
            "tags": []
          },
          "execution_count": 23
        }
      ]
    },
    {
      "cell_type": "code",
      "metadata": {
        "id": "Ga5ALrtRONzP",
        "colab_type": "code",
        "colab": {
          "base_uri": "https://localhost:8080/",
          "height": 166
        },
        "outputId": "dd187599-4fa8-4273-f2e3-f23c5a0be860"
      },
      "source": [
        "df.describe()"
      ],
      "execution_count": null,
      "outputs": [
        {
          "output_type": "execute_result",
          "data": {
            "text/html": [
              "<div>\n",
              "<style scoped>\n",
              "    .dataframe tbody tr th:only-of-type {\n",
              "        vertical-align: middle;\n",
              "    }\n",
              "\n",
              "    .dataframe tbody tr th {\n",
              "        vertical-align: top;\n",
              "    }\n",
              "\n",
              "    .dataframe thead th {\n",
              "        text-align: right;\n",
              "    }\n",
              "</style>\n",
              "<table border=\"1\" class=\"dataframe\">\n",
              "  <thead>\n",
              "    <tr style=\"text-align: right;\">\n",
              "      <th></th>\n",
              "      <th>filename</th>\n",
              "      <th>animal_type</th>\n",
              "    </tr>\n",
              "  </thead>\n",
              "  <tbody>\n",
              "    <tr>\n",
              "      <th>count</th>\n",
              "      <td>1200</td>\n",
              "      <td>1200</td>\n",
              "    </tr>\n",
              "    <tr>\n",
              "      <th>unique</th>\n",
              "      <td>1200</td>\n",
              "      <td>2</td>\n",
              "    </tr>\n",
              "    <tr>\n",
              "      <th>top</th>\n",
              "      <td>Image_29.jpg</td>\n",
              "      <td>pecora</td>\n",
              "    </tr>\n",
              "    <tr>\n",
              "      <th>freq</th>\n",
              "      <td>1</td>\n",
              "      <td>600</td>\n",
              "    </tr>\n",
              "  </tbody>\n",
              "</table>\n",
              "</div>"
            ],
            "text/plain": [
              "            filename animal_type\n",
              "count           1200        1200\n",
              "unique          1200           2\n",
              "top     Image_29.jpg      pecora\n",
              "freq               1         600"
            ]
          },
          "metadata": {
            "tags": []
          },
          "execution_count": 4
        }
      ]
    },
    {
      "cell_type": "code",
      "metadata": {
        "id": "CUpsgUwpOVE0",
        "colab_type": "code",
        "colab": {}
      },
      "source": [
        "%reload_ext autoreload\n",
        "%autoreload 2\n",
        "%matplotlib inline"
      ],
      "execution_count": null,
      "outputs": []
    },
    {
      "cell_type": "code",
      "metadata": {
        "id": "SEQDR2RtPGqO",
        "colab_type": "code",
        "colab": {}
      },
      "source": [
        "from fastai.imports import *"
      ],
      "execution_count": null,
      "outputs": []
    },
    {
      "cell_type": "code",
      "metadata": {
        "id": "KWtqIDmzQAdE",
        "colab_type": "code",
        "colab": {
          "base_uri": "https://localhost:8080/",
          "height": 35
        },
        "outputId": "5849a55a-1c41-4ab4-9d62-c41a337e98cc"
      },
      "source": [
        "import tensorflow as tf    # test GPU \n",
        "tf.test.gpu_device_name()"
      ],
      "execution_count": null,
      "outputs": [
        {
          "output_type": "execute_result",
          "data": {
            "application/vnd.google.colaboratory.intrinsic+json": {
              "type": "string"
            },
            "text/plain": [
              "''"
            ]
          },
          "metadata": {
            "tags": []
          },
          "execution_count": 7
        }
      ]
    },
    {
      "cell_type": "code",
      "metadata": {
        "id": "T_45zN0_QHru",
        "colab_type": "code",
        "colab": {
          "base_uri": "https://localhost:8080/",
          "height": 857
        },
        "outputId": "f549e33a-87f5-4697-b37a-8df04f2022c6"
      },
      "source": [
        "!wget -NS --content-disposition \"https://console.clouderizer.com/givemeinitsh/hR1mde3W\" && bash ./clouderizer_init.sh"
      ],
      "execution_count": null,
      "outputs": [
        {
          "output_type": "stream",
          "text": [
            "--2020-09-12 16:58:23--  https://console.clouderizer.com/givemeinitsh/hR1mde3W\n",
            "Resolving console.clouderizer.com (console.clouderizer.com)... 134.209.140.210\n",
            "Connecting to console.clouderizer.com (console.clouderizer.com)|134.209.140.210|:443... connected.\n",
            "HTTP request sent, awaiting response... \n",
            "  HTTP/1.1 200 OK\n",
            "  Server: nginx/1.10.3 (Ubuntu)\n",
            "  Date: Sat, 12 Sep 2020 16:58:34 GMT\n",
            "  Content-Type: application/octet-stream; charset=utf-8\n",
            "  Content-Length: 6555\n",
            "  Connection: keep-alive\n",
            "  X-Powered-By: Sails <sailsjs.org>\n",
            "  Access-Control-Allow-Origin: \n",
            "  Access-Control-Allow-Credentials: \n",
            "  Access-Control-Allow-Methods: \n",
            "  Access-Control-Allow-Headers: \n",
            "  Access-Control-Expose-Headers: \n",
            "  Content-Disposition: attachment; filename=\"clouderizer_init.sh\"\n",
            "  ETag: W/\"199b-I+My2KFQ2ieOcuLQiIYGRA\"\n",
            "  set-cookie: sails.sid=s%3AiUFPIV3HKT5Zkjmh2EQYk82Fh-ByYZvJ.ZROj4DA2hTopmWCkKj0VBourPE0pOWDtcpxHkMZgWM0; Path=/; HttpOnly\n",
            "Length: 6555 (6.4K) [application/octet-stream]\n",
            "Last-modified header missing -- time-stamps turned off.\n",
            "--2020-09-12 16:58:34--  https://console.clouderizer.com/givemeinitsh/hR1mde3W\n",
            "Reusing existing connection to console.clouderizer.com:443.\n",
            "HTTP request sent, awaiting response... \n",
            "  HTTP/1.1 200 OK\n",
            "  Server: nginx/1.10.3 (Ubuntu)\n",
            "  Date: Sat, 12 Sep 2020 16:58:34 GMT\n",
            "  Content-Type: application/octet-stream; charset=utf-8\n",
            "  Content-Length: 6555\n",
            "  Connection: keep-alive\n",
            "  X-Powered-By: Sails <sailsjs.org>\n",
            "  Access-Control-Allow-Origin: \n",
            "  Access-Control-Allow-Credentials: \n",
            "  Access-Control-Allow-Methods: \n",
            "  Access-Control-Allow-Headers: \n",
            "  Access-Control-Expose-Headers: \n",
            "  Content-Disposition: attachment; filename=\"clouderizer_init.sh\"\n",
            "  ETag: W/\"199b-I+My2KFQ2ieOcuLQiIYGRA\"\n",
            "Length: 6555 (6.4K) [application/octet-stream]\n",
            "Saving to: ‘clouderizer_init.sh’\n",
            "\n",
            "clouderizer_init.sh 100%[===================>]   6.40K  --.-KB/s    in 0s      \n",
            "\n",
            "2020-09-12 16:58:34 (320 MB/s) - ‘clouderizer_init.sh’ saved [6555/6555]\n",
            "\n",
            "Great! Your Clouderizer project is initializing...it might take few minutes before it is ready.\n",
            "\n",
            "**************************************************************************************\n",
            "YOU SHOULD NOW SWITCH BACK TO CLOUDERIZER WEB PAGE TO START WORKING ON YOUR PROJECT\n",
            "**************************************************************************************\n"
          ],
          "name": "stdout"
        }
      ]
    },
    {
      "cell_type": "code",
      "metadata": {
        "id": "8eU5TFMpPM7W",
        "colab_type": "code",
        "colab": {
          "base_uri": "https://localhost:8080/",
          "height": 34
        },
        "outputId": "feeefe93-c3de-413b-faab-a23636ee61ad"
      },
      "source": [
        "torch.cuda.is_available()\n"
      ],
      "execution_count": null,
      "outputs": [
        {
          "output_type": "execute_result",
          "data": {
            "text/plain": [
              "False"
            ]
          },
          "metadata": {
            "tags": []
          },
          "execution_count": 8
        }
      ]
    },
    {
      "cell_type": "code",
      "metadata": {
        "id": "DtRSARFMP3FT",
        "colab_type": "code",
        "colab": {
          "base_uri": "https://localhost:8080/",
          "height": 34
        },
        "outputId": "e0358e10-4f1e-4419-df2e-5054935a1b56"
      },
      "source": [
        "torch.backends.cudnn.enabled\n"
      ],
      "execution_count": null,
      "outputs": [
        {
          "output_type": "execute_result",
          "data": {
            "text/plain": [
              "True"
            ]
          },
          "metadata": {
            "tags": []
          },
          "execution_count": 9
        }
      ]
    },
    {
      "cell_type": "code",
      "metadata": {
        "id": "G8-m1nkQSRGE",
        "colab_type": "code",
        "colab": {}
      },
      "source": [
        "import numpy as np # linear algebra\n",
        "import pandas as pd # data processing, CSV file I/O (e.g. pd.read_csv)\n",
        "import matplotlib.pyplot as plt\n",
        "import os\n",
        "import cv2\n",
        "from sklearn.model_selection import train_test_split\n",
        "from keras.models import Sequential\n",
        "from keras.layers import Dense, Dropout, Activation, Flatten\n",
        "from keras.layers import Convolution2D, MaxPooling2D\n",
        "from keras.utils import np_utils"
      ],
      "execution_count": 12,
      "outputs": []
    },
    {
      "cell_type": "code",
      "metadata": {
        "id": "uD6_RLlyVCQu",
        "colab_type": "code",
        "colab": {
          "base_uri": "https://localhost:8080/",
          "height": 114
        },
        "outputId": "2d8a27c5-dce4-4dd3-dad9-d1dea8a2799a"
      },
      "source": [
        "# cloning the Datasets repository\n",
        "!git clone https://github.com/dphi-official/Datasets.git\n",
        "\n",
        "# copying the contents of the animal data folder to Google Drive\n",
        "!cp -r Datasets/animal_data /content/animal_data/"
      ],
      "execution_count": null,
      "outputs": [
        {
          "output_type": "stream",
          "text": [
            "Cloning into 'Datasets'...\n",
            "remote: Enumerating objects: 27, done.\u001b[K\n",
            "remote: Counting objects: 100% (27/27), done.\u001b[K\n",
            "remote: Compressing objects: 100% (25/25), done.\u001b[K\n"
          ],
          "name": "stdout"
        }
      ]
    },
    {
      "cell_type": "code",
      "metadata": {
        "id": "ToZ7WqQWTKhK",
        "colab_type": "code",
        "colab": {}
      },
      "source": [
        "path = \"https://raw.githubusercontent.com/dphi-official/Datasets/master/animal_data/Training_set_animals.csv\""
      ],
      "execution_count": 13,
      "outputs": []
    },
    {
      "cell_type": "code",
      "metadata": {
        "id": "QRnHa26VTmK7",
        "colab_type": "code",
        "colab": {}
      },
      "source": [
        "categories = ['mucca', 'pecora']"
      ],
      "execution_count": 17,
      "outputs": []
    },
    {
      "cell_type": "code",
      "metadata": {
        "id": "cYie9luCUHlL",
        "colab_type": "code",
        "colab": {
          "base_uri": "https://localhost:8080/",
          "height": 506
        },
        "outputId": "98261392-7b2f-4a07-98c3-30d9538c6ecf"
      },
      "source": [
        "for category in categories:\n",
        "    fig, _ = plt.subplots(3,4)\n",
        "    fig.suptitle(category)\n",
        "    for k, v in enumerate(os.listdir(path+category)[:12]):\n",
        "        img = plt.imread(path+category+'/'+v)\n",
        "        plt.subplot(3, 4, k+1)\n",
        "        plt.axis('off')\n",
        "        plt.imshow(img)\n",
        "    plt.show()"
      ],
      "execution_count": 24,
      "outputs": [
        {
          "output_type": "error",
          "ename": "FileNotFoundError",
          "evalue": "ignored",
          "traceback": [
            "\u001b[0;31m---------------------------------------------------------------------------\u001b[0m",
            "\u001b[0;31mFileNotFoundError\u001b[0m                         Traceback (most recent call last)",
            "\u001b[0;32m<ipython-input-24-af9561a534bf>\u001b[0m in \u001b[0;36m<module>\u001b[0;34m()\u001b[0m\n\u001b[1;32m      2\u001b[0m     \u001b[0mfig\u001b[0m\u001b[0;34m,\u001b[0m \u001b[0m_\u001b[0m \u001b[0;34m=\u001b[0m \u001b[0mplt\u001b[0m\u001b[0;34m.\u001b[0m\u001b[0msubplots\u001b[0m\u001b[0;34m(\u001b[0m\u001b[0;36m3\u001b[0m\u001b[0;34m,\u001b[0m\u001b[0;36m4\u001b[0m\u001b[0;34m)\u001b[0m\u001b[0;34m\u001b[0m\u001b[0;34m\u001b[0m\u001b[0m\n\u001b[1;32m      3\u001b[0m     \u001b[0mfig\u001b[0m\u001b[0;34m.\u001b[0m\u001b[0msuptitle\u001b[0m\u001b[0;34m(\u001b[0m\u001b[0mcategory\u001b[0m\u001b[0;34m)\u001b[0m\u001b[0;34m\u001b[0m\u001b[0;34m\u001b[0m\u001b[0m\n\u001b[0;32m----> 4\u001b[0;31m     \u001b[0;32mfor\u001b[0m \u001b[0mk\u001b[0m\u001b[0;34m,\u001b[0m \u001b[0mv\u001b[0m \u001b[0;32min\u001b[0m \u001b[0menumerate\u001b[0m\u001b[0;34m(\u001b[0m\u001b[0mos\u001b[0m\u001b[0;34m.\u001b[0m\u001b[0mlistdir\u001b[0m\u001b[0;34m(\u001b[0m\u001b[0mpath\u001b[0m\u001b[0;34m+\u001b[0m\u001b[0mcategory\u001b[0m\u001b[0;34m)\u001b[0m\u001b[0;34m[\u001b[0m\u001b[0;34m:\u001b[0m\u001b[0;36m12\u001b[0m\u001b[0;34m]\u001b[0m\u001b[0;34m)\u001b[0m\u001b[0;34m:\u001b[0m\u001b[0;34m\u001b[0m\u001b[0;34m\u001b[0m\u001b[0m\n\u001b[0m\u001b[1;32m      5\u001b[0m         \u001b[0mimg\u001b[0m \u001b[0;34m=\u001b[0m \u001b[0mplt\u001b[0m\u001b[0;34m.\u001b[0m\u001b[0mimread\u001b[0m\u001b[0;34m(\u001b[0m\u001b[0mpath\u001b[0m\u001b[0;34m+\u001b[0m\u001b[0mcategory\u001b[0m\u001b[0;34m+\u001b[0m\u001b[0;34m'/'\u001b[0m\u001b[0;34m+\u001b[0m\u001b[0mv\u001b[0m\u001b[0;34m)\u001b[0m\u001b[0;34m\u001b[0m\u001b[0;34m\u001b[0m\u001b[0m\n\u001b[1;32m      6\u001b[0m         \u001b[0mplt\u001b[0m\u001b[0;34m.\u001b[0m\u001b[0msubplot\u001b[0m\u001b[0;34m(\u001b[0m\u001b[0;36m3\u001b[0m\u001b[0;34m,\u001b[0m \u001b[0;36m4\u001b[0m\u001b[0;34m,\u001b[0m \u001b[0mk\u001b[0m\u001b[0;34m+\u001b[0m\u001b[0;36m1\u001b[0m\u001b[0;34m)\u001b[0m\u001b[0;34m\u001b[0m\u001b[0;34m\u001b[0m\u001b[0m\n",
            "\u001b[0;31mFileNotFoundError\u001b[0m: [Errno 2] No such file or directory: 'https://raw.githubusercontent.com/dphi-official/Datasets/master/animal_data/Training_set_animals.csvmucca'"
          ]
        },
        {
          "output_type": "display_data",
          "data": {
            "image/png": "[encoded data removed]",
            "text/plain": [
              "<Figure size 432x288 with 12 Axes>"
            ]
          },
          "metadata": {
            "tags": [],
            "needs_background": "light"
          }
        }
      ]
    },
    {
      "cell_type": "code",
      "metadata": {
        "id": "MlSjp1_iUdcF",
        "colab_type": "code",
        "colab": {}
      },
      "source": [
        ""
      ],
      "execution_count": null,
      "outputs": []
    }
  ]
}