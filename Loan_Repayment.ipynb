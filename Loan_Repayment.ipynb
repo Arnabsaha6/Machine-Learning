{
  "nbformat": 4,
  "nbformat_minor": 0,
  "metadata": {
    "colab": {
      "name": "Loan-Repayment.ipynb",
      "provenance": [],
      "authorship_tag": "ABX9TyNVe3Edrmo2JAbSkF4JuVqi",
      "include_colab_link": true
    },
    "kernelspec": {
      "name": "python3",
      "display_name": "Python 3"
    }
  },
  "cells": [
    {
      "cell_type": "markdown",
      "metadata": {
        "id": "view-in-github",
        "colab_type": "text"
      },
      "source": [
        "<a href=\"https://colab.research.google.com/github/Arnabsaha6/Machine-Learning/blob/master/Loan_Repayment.ipynb\" target=\"_parent\"><img src=\"https://colab.research.google.com/assets/colab-badge.svg\" alt=\"Open In Colab\"/></a>"
      ]
    },
    {
      "cell_type": "code",
      "metadata": {
        "id": "VIlU7JmJbA5d",
        "colab_type": "code",
        "colab": {}
      },
      "source": [
        "import pandas as pd\n",
        "import numpy as np\n",
        "pd.set_option('display.max_rows',800)\n",
        "pd.set_option('display.max_columns',500)\n",
        "import seaborn as sns\n",
        "import matplotlib.pyplot as plt\n",
        "%matplotlib inline"
      ],
      "execution_count": 2,
      "outputs": []
    },
    {
      "cell_type": "code",
      "metadata": {
        "id": "vnJkOhymbb8d",
        "colab_type": "code",
        "colab": {}
      },
      "source": [
        "df=pd.read_csv('loan_data.xls')"
      ],
      "execution_count": 3,
      "outputs": []
    },
    {
      "cell_type": "code",
      "metadata": {
        "id": "-j_a-2B_brYs",
        "colab_type": "code",
        "colab": {
          "base_uri": "https://localhost:8080/",
          "height": 215
        },
        "outputId": "1331efe0-2cee-4e96-b586-0a54ba91df58"
      },
      "source": [
        "df.head()"
      ],
      "execution_count": 4,
      "outputs": [
        {
          "output_type": "execute_result",
          "data": {
            "text/html": [
              "<div>\n",
              "<style scoped>\n",
              "    .dataframe tbody tr th:only-of-type {\n",
              "        vertical-align: middle;\n",
              "    }\n",
              "\n",
              "    .dataframe tbody tr th {\n",
              "        vertical-align: top;\n",
              "    }\n",
              "\n",
              "    .dataframe thead th {\n",
              "        text-align: right;\n",
              "    }\n",
              "</style>\n",
              "<table border=\"1\" class=\"dataframe\">\n",
              "  <thead>\n",
              "    <tr style=\"text-align: right;\">\n",
              "      <th></th>\n",
              "      <th>credit.policy</th>\n",
              "      <th>purpose</th>\n",
              "      <th>int.rate</th>\n",
              "      <th>installment</th>\n",
              "      <th>log.annual.inc</th>\n",
              "      <th>dti</th>\n",
              "      <th>fico</th>\n",
              "      <th>days.with.cr.line</th>\n",
              "      <th>revol.bal</th>\n",
              "      <th>revol.util</th>\n",
              "      <th>inq.last.6mths</th>\n",
              "      <th>delinq.2yrs</th>\n",
              "      <th>pub.rec</th>\n",
              "      <th>not.fully.paid</th>\n",
              "    </tr>\n",
              "  </thead>\n",
              "  <tbody>\n",
              "    <tr>\n",
              "      <th>0</th>\n",
              "      <td>1</td>\n",
              "      <td>debt_consolidation</td>\n",
              "      <td>0.1189</td>\n",
              "      <td>829.10</td>\n",
              "      <td>11.350407</td>\n",
              "      <td>19.48</td>\n",
              "      <td>737</td>\n",
              "      <td>5639.958333</td>\n",
              "      <td>28854</td>\n",
              "      <td>52.1</td>\n",
              "      <td>0</td>\n",
              "      <td>0</td>\n",
              "      <td>0</td>\n",
              "      <td>0</td>\n",
              "    </tr>\n",
              "    <tr>\n",
              "      <th>1</th>\n",
              "      <td>1</td>\n",
              "      <td>credit_card</td>\n",
              "      <td>0.1071</td>\n",
              "      <td>228.22</td>\n",
              "      <td>11.082143</td>\n",
              "      <td>14.29</td>\n",
              "      <td>707</td>\n",
              "      <td>2760.000000</td>\n",
              "      <td>33623</td>\n",
              "      <td>76.7</td>\n",
              "      <td>0</td>\n",
              "      <td>0</td>\n",
              "      <td>0</td>\n",
              "      <td>0</td>\n",
              "    </tr>\n",
              "    <tr>\n",
              "      <th>2</th>\n",
              "      <td>1</td>\n",
              "      <td>debt_consolidation</td>\n",
              "      <td>0.1357</td>\n",
              "      <td>366.86</td>\n",
              "      <td>10.373491</td>\n",
              "      <td>11.63</td>\n",
              "      <td>682</td>\n",
              "      <td>4710.000000</td>\n",
              "      <td>3511</td>\n",
              "      <td>25.6</td>\n",
              "      <td>1</td>\n",
              "      <td>0</td>\n",
              "      <td>0</td>\n",
              "      <td>0</td>\n",
              "    </tr>\n",
              "    <tr>\n",
              "      <th>3</th>\n",
              "      <td>1</td>\n",
              "      <td>debt_consolidation</td>\n",
              "      <td>0.1008</td>\n",
              "      <td>162.34</td>\n",
              "      <td>11.350407</td>\n",
              "      <td>8.10</td>\n",
              "      <td>712</td>\n",
              "      <td>2699.958333</td>\n",
              "      <td>33667</td>\n",
              "      <td>73.2</td>\n",
              "      <td>1</td>\n",
              "      <td>0</td>\n",
              "      <td>0</td>\n",
              "      <td>0</td>\n",
              "    </tr>\n",
              "    <tr>\n",
              "      <th>4</th>\n",
              "      <td>1</td>\n",
              "      <td>credit_card</td>\n",
              "      <td>0.1426</td>\n",
              "      <td>102.92</td>\n",
              "      <td>11.299732</td>\n",
              "      <td>14.97</td>\n",
              "      <td>667</td>\n",
              "      <td>4066.000000</td>\n",
              "      <td>4740</td>\n",
              "      <td>39.5</td>\n",
              "      <td>0</td>\n",
              "      <td>1</td>\n",
              "      <td>0</td>\n",
              "      <td>0</td>\n",
              "    </tr>\n",
              "  </tbody>\n",
              "</table>\n",
              "</div>"
            ],
            "text/plain": [
              "   credit.policy             purpose  int.rate  installment  log.annual.inc  \\\n",
              "0              1  debt_consolidation    0.1189       829.10       11.350407   \n",
              "1              1         credit_card    0.1071       228.22       11.082143   \n",
              "2              1  debt_consolidation    0.1357       366.86       10.373491   \n",
              "3              1  debt_consolidation    0.1008       162.34       11.350407   \n",
              "4              1         credit_card    0.1426       102.92       11.299732   \n",
              "\n",
              "     dti  fico  days.with.cr.line  revol.bal  revol.util  inq.last.6mths  \\\n",
              "0  19.48   737        5639.958333      28854        52.1               0   \n",
              "1  14.29   707        2760.000000      33623        76.7               0   \n",
              "2  11.63   682        4710.000000       3511        25.6               1   \n",
              "3   8.10   712        2699.958333      33667        73.2               1   \n",
              "4  14.97   667        4066.000000       4740        39.5               0   \n",
              "\n",
              "   delinq.2yrs  pub.rec  not.fully.paid  \n",
              "0            0        0               0  \n",
              "1            0        0               0  \n",
              "2            0        0               0  \n",
              "3            0        0               0  \n",
              "4            1        0               0  "
            ]
          },
          "metadata": {
            "tags": []
          },
          "execution_count": 4
        }
      ]
    },
    {
      "cell_type": "code",
      "metadata": {
        "id": "FsUkPZtWbsd1",
        "colab_type": "code",
        "colab": {
          "base_uri": "https://localhost:8080/",
          "height": 370
        },
        "outputId": "e56bdaf3-0433-4948-8fb4-d31bf7ddfad3"
      },
      "source": [
        "df.info()"
      ],
      "execution_count": 5,
      "outputs": [
        {
          "output_type": "stream",
          "text": [
            "<class 'pandas.core.frame.DataFrame'>\n",
            "RangeIndex: 9578 entries, 0 to 9577\n",
            "Data columns (total 14 columns):\n",
            " #   Column             Non-Null Count  Dtype  \n",
            "---  ------             --------------  -----  \n",
            " 0   credit.policy      9578 non-null   int64  \n",
            " 1   purpose            9578 non-null   object \n",
            " 2   int.rate           9578 non-null   float64\n",
            " 3   installment        9578 non-null   float64\n",
            " 4   log.annual.inc     9578 non-null   float64\n",
            " 5   dti                9578 non-null   float64\n",
            " 6   fico               9578 non-null   int64  \n",
            " 7   days.with.cr.line  9578 non-null   float64\n",
            " 8   revol.bal          9578 non-null   int64  \n",
            " 9   revol.util         9578 non-null   float64\n",
            " 10  inq.last.6mths     9578 non-null   int64  \n",
            " 11  delinq.2yrs        9578 non-null   int64  \n",
            " 12  pub.rec            9578 non-null   int64  \n",
            " 13  not.fully.paid     9578 non-null   int64  \n",
            "dtypes: float64(6), int64(7), object(1)\n",
            "memory usage: 1.0+ MB\n"
          ],
          "name": "stdout"
        }
      ]
    },
    {
      "cell_type": "code",
      "metadata": {
        "id": "3mxYHRItbvFz",
        "colab_type": "code",
        "colab": {
          "base_uri": "https://localhost:8080/",
          "height": 304
        },
        "outputId": "37609f79-a2e2-4722-f780-39a76d29a964"
      },
      "source": [
        "df.describe()"
      ],
      "execution_count": 6,
      "outputs": [
        {
          "output_type": "execute_result",
          "data": {
            "text/html": [
              "<div>\n",
              "<style scoped>\n",
              "    .dataframe tbody tr th:only-of-type {\n",
              "        vertical-align: middle;\n",
              "    }\n",
              "\n",
              "    .dataframe tbody tr th {\n",
              "        vertical-align: top;\n",
              "    }\n",
              "\n",
              "    .dataframe thead th {\n",
              "        text-align: right;\n",
              "    }\n",
              "</style>\n",
              "<table border=\"1\" class=\"dataframe\">\n",
              "  <thead>\n",
              "    <tr style=\"text-align: right;\">\n",
              "      <th></th>\n",
              "      <th>credit.policy</th>\n",
              "      <th>int.rate</th>\n",
              "      <th>installment</th>\n",
              "      <th>log.annual.inc</th>\n",
              "      <th>dti</th>\n",
              "      <th>fico</th>\n",
              "      <th>days.with.cr.line</th>\n",
              "      <th>revol.bal</th>\n",
              "      <th>revol.util</th>\n",
              "      <th>inq.last.6mths</th>\n",
              "      <th>delinq.2yrs</th>\n",
              "      <th>pub.rec</th>\n",
              "      <th>not.fully.paid</th>\n",
              "    </tr>\n",
              "  </thead>\n",
              "  <tbody>\n",
              "    <tr>\n",
              "      <th>count</th>\n",
              "      <td>9578.000000</td>\n",
              "      <td>9578.000000</td>\n",
              "      <td>9578.000000</td>\n",
              "      <td>9578.000000</td>\n",
              "      <td>9578.000000</td>\n",
              "      <td>9578.000000</td>\n",
              "      <td>9578.000000</td>\n",
              "      <td>9.578000e+03</td>\n",
              "      <td>9578.000000</td>\n",
              "      <td>9578.000000</td>\n",
              "      <td>9578.000000</td>\n",
              "      <td>9578.000000</td>\n",
              "      <td>9578.000000</td>\n",
              "    </tr>\n",
              "    <tr>\n",
              "      <th>mean</th>\n",
              "      <td>0.804970</td>\n",
              "      <td>0.122640</td>\n",
              "      <td>319.089413</td>\n",
              "      <td>10.932117</td>\n",
              "      <td>12.606679</td>\n",
              "      <td>710.846314</td>\n",
              "      <td>4560.767197</td>\n",
              "      <td>1.691396e+04</td>\n",
              "      <td>46.799236</td>\n",
              "      <td>1.577469</td>\n",
              "      <td>0.163708</td>\n",
              "      <td>0.062122</td>\n",
              "      <td>0.160054</td>\n",
              "    </tr>\n",
              "    <tr>\n",
              "      <th>std</th>\n",
              "      <td>0.396245</td>\n",
              "      <td>0.026847</td>\n",
              "      <td>207.071301</td>\n",
              "      <td>0.614813</td>\n",
              "      <td>6.883970</td>\n",
              "      <td>37.970537</td>\n",
              "      <td>2496.930377</td>\n",
              "      <td>3.375619e+04</td>\n",
              "      <td>29.014417</td>\n",
              "      <td>2.200245</td>\n",
              "      <td>0.546215</td>\n",
              "      <td>0.262126</td>\n",
              "      <td>0.366676</td>\n",
              "    </tr>\n",
              "    <tr>\n",
              "      <th>min</th>\n",
              "      <td>0.000000</td>\n",
              "      <td>0.060000</td>\n",
              "      <td>15.670000</td>\n",
              "      <td>7.547502</td>\n",
              "      <td>0.000000</td>\n",
              "      <td>612.000000</td>\n",
              "      <td>178.958333</td>\n",
              "      <td>0.000000e+00</td>\n",
              "      <td>0.000000</td>\n",
              "      <td>0.000000</td>\n",
              "      <td>0.000000</td>\n",
              "      <td>0.000000</td>\n",
              "      <td>0.000000</td>\n",
              "    </tr>\n",
              "    <tr>\n",
              "      <th>25%</th>\n",
              "      <td>1.000000</td>\n",
              "      <td>0.103900</td>\n",
              "      <td>163.770000</td>\n",
              "      <td>10.558414</td>\n",
              "      <td>7.212500</td>\n",
              "      <td>682.000000</td>\n",
              "      <td>2820.000000</td>\n",
              "      <td>3.187000e+03</td>\n",
              "      <td>22.600000</td>\n",
              "      <td>0.000000</td>\n",
              "      <td>0.000000</td>\n",
              "      <td>0.000000</td>\n",
              "      <td>0.000000</td>\n",
              "    </tr>\n",
              "    <tr>\n",
              "      <th>50%</th>\n",
              "      <td>1.000000</td>\n",
              "      <td>0.122100</td>\n",
              "      <td>268.950000</td>\n",
              "      <td>10.928884</td>\n",
              "      <td>12.665000</td>\n",
              "      <td>707.000000</td>\n",
              "      <td>4139.958333</td>\n",
              "      <td>8.596000e+03</td>\n",
              "      <td>46.300000</td>\n",
              "      <td>1.000000</td>\n",
              "      <td>0.000000</td>\n",
              "      <td>0.000000</td>\n",
              "      <td>0.000000</td>\n",
              "    </tr>\n",
              "    <tr>\n",
              "      <th>75%</th>\n",
              "      <td>1.000000</td>\n",
              "      <td>0.140700</td>\n",
              "      <td>432.762500</td>\n",
              "      <td>11.291293</td>\n",
              "      <td>17.950000</td>\n",
              "      <td>737.000000</td>\n",
              "      <td>5730.000000</td>\n",
              "      <td>1.824950e+04</td>\n",
              "      <td>70.900000</td>\n",
              "      <td>2.000000</td>\n",
              "      <td>0.000000</td>\n",
              "      <td>0.000000</td>\n",
              "      <td>0.000000</td>\n",
              "    </tr>\n",
              "    <tr>\n",
              "      <th>max</th>\n",
              "      <td>1.000000</td>\n",
              "      <td>0.216400</td>\n",
              "      <td>940.140000</td>\n",
              "      <td>14.528354</td>\n",
              "      <td>29.960000</td>\n",
              "      <td>827.000000</td>\n",
              "      <td>17639.958330</td>\n",
              "      <td>1.207359e+06</td>\n",
              "      <td>119.000000</td>\n",
              "      <td>33.000000</td>\n",
              "      <td>13.000000</td>\n",
              "      <td>5.000000</td>\n",
              "      <td>1.000000</td>\n",
              "    </tr>\n",
              "  </tbody>\n",
              "</table>\n",
              "</div>"
            ],
            "text/plain": [
              "       credit.policy     int.rate  installment  log.annual.inc          dti  \\\n",
              "count    9578.000000  9578.000000  9578.000000     9578.000000  9578.000000   \n",
              "mean        0.804970     0.122640   319.089413       10.932117    12.606679   \n",
              "std         0.396245     0.026847   207.071301        0.614813     6.883970   \n",
              "min         0.000000     0.060000    15.670000        7.547502     0.000000   \n",
              "25%         1.000000     0.103900   163.770000       10.558414     7.212500   \n",
              "50%         1.000000     0.122100   268.950000       10.928884    12.665000   \n",
              "75%         1.000000     0.140700   432.762500       11.291293    17.950000   \n",
              "max         1.000000     0.216400   940.140000       14.528354    29.960000   \n",
              "\n",
              "              fico  days.with.cr.line     revol.bal   revol.util  \\\n",
              "count  9578.000000        9578.000000  9.578000e+03  9578.000000   \n",
              "mean    710.846314        4560.767197  1.691396e+04    46.799236   \n",
              "std      37.970537        2496.930377  3.375619e+04    29.014417   \n",
              "min     612.000000         178.958333  0.000000e+00     0.000000   \n",
              "25%     682.000000        2820.000000  3.187000e+03    22.600000   \n",
              "50%     707.000000        4139.958333  8.596000e+03    46.300000   \n",
              "75%     737.000000        5730.000000  1.824950e+04    70.900000   \n",
              "max     827.000000       17639.958330  1.207359e+06   119.000000   \n",
              "\n",
              "       inq.last.6mths  delinq.2yrs      pub.rec  not.fully.paid  \n",
              "count     9578.000000  9578.000000  9578.000000     9578.000000  \n",
              "mean         1.577469     0.163708     0.062122        0.160054  \n",
              "std          2.200245     0.546215     0.262126        0.366676  \n",
              "min          0.000000     0.000000     0.000000        0.000000  \n",
              "25%          0.000000     0.000000     0.000000        0.000000  \n",
              "50%          1.000000     0.000000     0.000000        0.000000  \n",
              "75%          2.000000     0.000000     0.000000        0.000000  \n",
              "max         33.000000    13.000000     5.000000        1.000000  "
            ]
          },
          "metadata": {
            "tags": []
          },
          "execution_count": 6
        }
      ]
    },
    {
      "cell_type": "code",
      "metadata": {
        "id": "nWx3fPtDbv9J",
        "colab_type": "code",
        "colab": {
          "base_uri": "https://localhost:8080/",
          "height": 134
        },
        "outputId": "432342a2-a8fe-44fd-db2b-af5dc0cdf06e"
      },
      "source": [
        "num_col=df.select_dtypes(include=np.number).columns\n",
        "print(\"Numerical Columns: \\n\",num_col)\n",
        "\n",
        "cat_col=df.select_dtypes(exclude=np.number).columns\n",
        "print(\"Numerical Columns: \\n\",cat_col)"
      ],
      "execution_count": 7,
      "outputs": [
        {
          "output_type": "stream",
          "text": [
            "Numerical Columns: \n",
            " Index(['credit.policy', 'int.rate', 'installment', 'log.annual.inc', 'dti',\n",
            "       'fico', 'days.with.cr.line', 'revol.bal', 'revol.util',\n",
            "       'inq.last.6mths', 'delinq.2yrs', 'pub.rec', 'not.fully.paid'],\n",
            "      dtype='object')\n",
            "Numerical Columns: \n",
            " Index(['purpose'], dtype='object')\n"
          ],
          "name": "stdout"
        }
      ]
    },
    {
      "cell_type": "markdown",
      "metadata": {
        "id": "UuvTxTnRcJHd",
        "colab_type": "text"
      },
      "source": [
        "#Data Preprocessing"
      ]
    },
    {
      "cell_type": "code",
      "metadata": {
        "id": "r0IpioNycG3T",
        "colab_type": "code",
        "colab": {}
      },
      "source": [
        "df=pd.get_dummies(prefix='purpose',data=df,columns=['purpose'])"
      ],
      "execution_count": 8,
      "outputs": []
    },
    {
      "cell_type": "code",
      "metadata": {
        "id": "h2ZAI4WecUpw",
        "colab_type": "code",
        "colab": {
          "base_uri": "https://localhost:8080/",
          "height": 202
        },
        "outputId": "11cf841c-3b23-4bbe-8bb1-2a4156f68a32"
      },
      "source": [
        "num_col=df.select_dtypes(include=np.number).columns\n",
        "print(\"Numerical Columns: \\n\",num_col)\n",
        "\n",
        "cat_col=df.select_dtypes(exclude=np.number).columns\n",
        "print(\"Numerical Columns: \\n\",cat_col)"
      ],
      "execution_count": 9,
      "outputs": [
        {
          "output_type": "stream",
          "text": [
            "Numerical Columns: \n",
            " Index(['credit.policy', 'int.rate', 'installment', 'log.annual.inc', 'dti',\n",
            "       'fico', 'days.with.cr.line', 'revol.bal', 'revol.util',\n",
            "       'inq.last.6mths', 'delinq.2yrs', 'pub.rec', 'not.fully.paid',\n",
            "       'purpose_all_other', 'purpose_credit_card',\n",
            "       'purpose_debt_consolidation', 'purpose_educational',\n",
            "       'purpose_home_improvement', 'purpose_major_purchase',\n",
            "       'purpose_small_business'],\n",
            "      dtype='object')\n",
            "Numerical Columns: \n",
            " Index([], dtype='object')\n"
          ],
          "name": "stdout"
        }
      ]
    },
    {
      "cell_type": "code",
      "metadata": {
        "id": "ePqVMDoOcaJN",
        "colab_type": "code",
        "colab": {
          "base_uri": "https://localhost:8080/",
          "height": 386
        },
        "outputId": "797184f8-55cc-4ed9-c6c5-822002f07bac"
      },
      "source": [
        "print(df.isnull().sum())\n",
        "print(df.shape)"
      ],
      "execution_count": 10,
      "outputs": [
        {
          "output_type": "stream",
          "text": [
            "credit.policy                 0\n",
            "int.rate                      0\n",
            "installment                   0\n",
            "log.annual.inc                0\n",
            "dti                           0\n",
            "fico                          0\n",
            "days.with.cr.line             0\n",
            "revol.bal                     0\n",
            "revol.util                    0\n",
            "inq.last.6mths                0\n",
            "delinq.2yrs                   0\n",
            "pub.rec                       0\n",
            "not.fully.paid                0\n",
            "purpose_all_other             0\n",
            "purpose_credit_card           0\n",
            "purpose_debt_consolidation    0\n",
            "purpose_educational           0\n",
            "purpose_home_improvement      0\n",
            "purpose_major_purchase        0\n",
            "purpose_small_business        0\n",
            "dtype: int64\n",
            "(9578, 20)\n"
          ],
          "name": "stdout"
        }
      ]
    },
    {
      "cell_type": "markdown",
      "metadata": {
        "id": "2ylnZSdjcihg",
        "colab_type": "text"
      },
      "source": [
        "#**Explaratory Data Analysis**"
      ]
    },
    {
      "cell_type": "code",
      "metadata": {
        "id": "m1BlA-bPcgmD",
        "colab_type": "code",
        "colab": {
          "base_uri": "https://localhost:8080/",
          "height": 279
        },
        "outputId": "b5d70278-049f-4501-f1a3-a549cdc41bea"
      },
      "source": [
        "sns.countplot(y=df['not.fully.paid'],data=df)\n",
        "plt.xlabel(\"Count of each target class\")\n",
        "plt.ylabel(\"Target Class\")\n",
        "plt.show()"
      ],
      "execution_count": 13,
      "outputs": [
        {
          "output_type": "display_data",
          "data": {
            "image/png": "[encoded data removed]",
            "text/plain": [
              "<Figure size 432x288 with 1 Axes>"
            ]
          },
          "metadata": {
            "tags": [],
            "needs_background": "light"
          }
        }
      ]
    },
    {
      "cell_type": "code",
      "metadata": {
        "id": "tEZnI8AQc7tI",
        "colab_type": "code",
        "colab": {
          "base_uri": "https://localhost:8080/",
          "height": 729
        },
        "outputId": "a91c50a1-8872-4489-c54d-5a980eff0fe4"
      },
      "source": [
        "df.hist(figsize=(15,12),bins=15)\n",
        "plt.title(\"Features Distribution\")\n",
        "plt.show()"
      ],
      "execution_count": 14,
      "outputs": [
        {
          "output_type": "display_data",
          "data": {
            "image/png": "[encoded data removed]",
            "text/plain": [
              "<Figure size 1080x864 with 20 Axes>"
            ]
          },
          "metadata": {
            "tags": [],
            "needs_background": "light"
          }
        }
      ]
    },
    {
      "cell_type": "code",
      "metadata": {
        "id": "sq3k0DpAdMdo",
        "colab_type": "code",
        "colab": {}
      },
      "source": [
        ""
      ],
      "execution_count": null,
      "outputs": []
    }
  ]
}