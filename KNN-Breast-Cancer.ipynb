{
 "cells": [
  {
   "cell_type": "code",
   "execution_count": 1,
   "metadata": {},
   "outputs": [],
   "source": [
    "import numpy as np\n",
    "from collections import Counter\n",
    "import pandas as pd\n",
    "import os\n",
    "import PIL.Image"
   ]
  },
  {
   "cell_type": "code",
   "execution_count": 14,
   "metadata": {},
   "outputs": [],
   "source": [
    "class KNeighborsClassifieR(object):\n",
    "    def __init__(self):\n",
    "        pass\n",
    "    #TRAINING FUNCTION\n",
    "    def fit(self, X, y):\n",
    "        self.X_train = X\n",
    "        self.y_train = y\n",
    "    #PREDICT FUNCTION\n",
    "    def predict(self, X_test, k=5):\n",
    "        distances = self.compute_distances(self.X_train, X_test)\n",
    "        vote_results = []\n",
    "        for i in range(len(distances)):\n",
    "            votesOneSample = []\n",
    "            for j in range(k):\n",
    "                votesOneSample.append(distances[i][j][1])\n",
    "            vote_results.append(Counter(votesOneSample).most_common(1)[0][0])\n",
    "        return vote_results\n",
    "    #For each sample and every item in test set algorithm is making tuple in distance list\n",
    "    #this is how list looks =>> distances = [[[distance, class],[distance, class],[distance, class],[distance, class]]] \n",
    "    #distances and sort\n",
    "    def compute_distances(self, X, X_test):\n",
    "        distances = []\n",
    "        for i in range(X_test.shape[0]):\n",
    "            euclidian_distances = np.zeros(X.shape[0])\n",
    "            oneSampleList = []\n",
    "            for j in range(len(X)):\n",
    "                euclidian_distances[j] = np.sqrt(np.sum(np.square(np.array(X_test[i]) - np.array(X[j]))))\n",
    "                oneSampleList.append([euclidian_distances[j], self.y_train[j]])\n",
    "            distances.append(sorted(oneSampleList))\n",
    "        return distances"
   ]
  },
  {
   "cell_type": "code",
   "execution_count": 15,
   "metadata": {},
   "outputs": [],
   "source": [
    "#TO check the accuracy\n",
    "def accuracy(y_tes, y_pred):\n",
    "    correct = 0\n",
    "    for i in range(len(y_pred)):\n",
    "        if(y_tes[i] == y_pred[i]):\n",
    "            correct += 1\n",
    "    return (correct/len(y_tes))*100"
   ]
  },
  {
   "cell_type": "code",
   "execution_count": 16,
   "metadata": {},
   "outputs": [],
   "source": [
    "def run():\n",
    "    dataset = pd.read_csv('C:\\\\Users\\\\arnab saha\\\\Desktop\\\\Arnab\\\\breast-cancer-wisconsin.csv')\n",
    "    dataset.replace('?', -9999, inplace=True)\n",
    "    dataset = dataset.applymap(np.int64)\n",
    "    X = dataset.iloc[:, 1:-1].values\n",
    "    y = dataset.iloc[:, -1].values\n",
    "    \n",
    "    # Splitting the dataset into the Training set and Test set\n",
    "    from sklearn.cross_validation import train_test_split\n",
    "    X_train, X_test, y_train, y_test = train_test_split(X, y, test_size = 0.25, random_state = 0)\n",
    "\n",
    "    # Feature Scaling\n",
    "    #from sklearn.preprocessing import StandardScaler\n",
    "    #sc = StandardScaler()\n",
    "    #X_train = sc.fit_transform(X_train)\n",
    "    #X_test = sc.transform(X_test)\n",
    "    \n",
    "    classifier = KNeighborsClassifieR()\n",
    "    classifier.fit(X_train, y_train)\n",
    "    y_pred = classifier.predict(X_test)\n",
    "    print(\"KNN accuracy: \",accuracy(y_test, y_pred),'%')"
   ]
  },
  {
   "cell_type": "code",
   "execution_count": 17,
   "metadata": {},
   "outputs": [
    {
     "name": "stdout",
     "output_type": "stream",
     "text": [
      "KNN accuracy:  97.71428571428571 %\n"
     ]
    }
   ],
   "source": [
    "run()"
   ]
  },
  {
   "cell_type": "code",
   "execution_count": 18,
   "metadata": {},
   "outputs": [],
   "source": [
    "def skLearnKNN():\n",
    "    # Importing the dataset\n",
    "    dataset = pd.read_csv('C:\\\\Users\\\\arnab saha\\\\Desktop\\\\Arnab\\\\breast-cancer-wisconsin.csv')\n",
    "    dataset.replace('?', 0, inplace=True)\n",
    "    dataset = dataset.applymap(np.int64)\n",
    "    X = dataset.iloc[:, 1:-1].values\n",
    "    y = dataset.iloc[:, -1].values\n",
    "    \n",
    "    # Splitting the dataset into the Training set and Test set\n",
    "    from sklearn.cross_validation import train_test_split\n",
    "    X_train, X_test, y_train, y_test = train_test_split(X, y, test_size = 0.25, random_state = 0)\n",
    "\n",
    "    # Feature Scaling\n",
    "#     from sklearn.preprocessing import StandardScaler\n",
    "#     sc = StandardScaler()\n",
    "#     X_train = sc.fit_transform(X_train)\n",
    "#     X_test = sc.transform(X_test)\n",
    "    \n",
    "    from sklearn.neighbors import KNeighborsClassifier\n",
    "    classifier = KNeighborsClassifier()\n",
    "    classifier.fit(X_train, y_train)\n",
    "    y_pred = classifier.predict(X_test)\n",
    "    print(\"Sklearn accuracy: \", accuracy(y_test, y_pred),'%')"
   ]
  },
  {
   "cell_type": "code",
   "execution_count": 19,
   "metadata": {},
   "outputs": [
    {
     "name": "stdout",
     "output_type": "stream",
     "text": [
      "Sklearn accuracy:  97.71428571428571 %\n"
     ]
    }
   ],
   "source": [
    "skLearnKNN()"
   ]
  }
 ],
 "metadata": {
  "kernelspec": {
   "display_name": "Python 3",
   "language": "python",
   "name": "python3"
  },
  "language_info": {
   "codemirror_mode": {
    "name": "ipython",
    "version": 3
   },
   "file_extension": ".py",
   "mimetype": "text/x-python",
   "name": "python",
   "nbconvert_exporter": "python",
   "pygments_lexer": "ipython3",
   "version": "3.6.4"
  }
 },
 "nbformat": 4,
 "nbformat_minor": 2
}
