{
  "nbformat": 4,
  "nbformat_minor": 0,
  "metadata": {
    "kernelspec": {
      "display_name": "Python 3",
      "language": "python",
      "name": "python3"
    },
    "language_info": {
      "codemirror_mode": {
        "name": "ipython",
        "version": 3
      },
      "file_extension": ".py",
      "mimetype": "text/x-python",
      "name": "python",
      "nbconvert_exporter": "python",
      "pygments_lexer": "ipython3",
      "version": "3.7.6"
    },
    "colab": {
      "name": "Chronic_kidney_disease_analysis.ipynb",
      "provenance": [],
      "collapsed_sections": [
        "XWx7_VsRAhEF",
        "W0TamedPAhEh",
        "F-u5ge1oAhEq",
        "MusfAUI-AhEz",
        "8vzHVXHYAhE9",
        "mJ3FVUgWAhFY",
        "K8VLp5V7AhFh",
        "lDvV5nF_AhF2",
        "Iaio_CyVAhHJ"
      ],
      "toc_visible": true,
      "include_colab_link": true
    }
  },
  "cells": [
    {
      "cell_type": "markdown",
      "metadata": {
        "id": "view-in-github",
        "colab_type": "text"
      },
      "source": [
        "<a href=\"https://colab.research.google.com/github/Arnabsaha6/Machine-Learning/blob/master/Chronic_kidney_disease_analysis.ipynb\" target=\"_parent\"><img src=\"https://colab.research.google.com/assets/colab-badge.svg\" alt=\"Open In Colab\"/></a>"
      ]
    },
    {
      "cell_type": "markdown",
      "metadata": {
        "id": "KAvXCbJUAhAi",
        "colab_type": "text"
      },
      "source": [
        "# DATA PRE-PROCESSING "
      ]
    },
    {
      "cell_type": "markdown",
      "metadata": {
        "id": "F1bQiv_7AhAm",
        "colab_type": "text"
      },
      "source": [
        "# IMPORTING LIBRARIES"
      ]
    },
    {
      "cell_type": "code",
      "metadata": {
        "id": "BDxwiM1sAhAo",
        "colab_type": "code",
        "colab": {
          "base_uri": "https://localhost:8080/",
          "height": 70
        },
        "outputId": "947776ff-d385-444f-a729-9961b58159e4"
      },
      "source": [
        "import numpy as np\n",
        "import pandas as pd\n",
        "import matplotlib.pyplot as plt\n",
        "import seaborn as sb\n",
        "from sklearn.compose import ColumnTransformer\n",
        "from sklearn.preprocessing import OneHotEncoder\n",
        "from sklearn.preprocessing import LabelEncoder,MinMaxScaler\n",
        "from sklearn import preprocessing \n",
        "from sklearn.model_selection import train_test_split\n",
        "from sklearn.ensemble import RandomForestClassifier\n",
        "\n",
        "from sklearn.metrics import accuracy_score"
      ],
      "execution_count": 1,
      "outputs": [
        {
          "output_type": "stream",
          "text": [
            "/usr/local/lib/python3.6/dist-packages/statsmodels/tools/_testing.py:19: FutureWarning: pandas.util.testing is deprecated. Use the functions in the public API at pandas.testing instead.\n",
            "  import pandas.util.testing as tm\n"
          ],
          "name": "stderr"
        }
      ]
    },
    {
      "cell_type": "markdown",
      "metadata": {
        "id": "OEND9fHdAhA-",
        "colab_type": "text"
      },
      "source": [
        "# IMPORTING DATASET"
      ]
    },
    {
      "cell_type": "code",
      "metadata": {
        "id": "3YuOJbceAhBA",
        "colab_type": "code",
        "colab": {}
      },
      "source": [
        "df=pd.read_csv(\"kidney.csv\") #IMPORTED CHRONIC_KIDNEY_DISEASE FILE"
      ],
      "execution_count": 2,
      "outputs": []
    },
    {
      "cell_type": "markdown",
      "metadata": {
        "id": "I2vkzZ0eAhBK",
        "colab_type": "text"
      },
      "source": [
        "# EXPLORING THE DATA"
      ]
    },
    {
      "cell_type": "code",
      "metadata": {
        "id": "pg1mqs1IAhBM",
        "colab_type": "code",
        "colab": {
          "base_uri": "https://localhost:8080/",
          "height": 422
        },
        "outputId": "fff2e4f8-5204-4435-a28c-3f1d8135b6d2"
      },
      "source": [
        "df"
      ],
      "execution_count": 3,
      "outputs": [
        {
          "output_type": "execute_result",
          "data": {
            "text/html": [
              "<div>\n",
              "<style scoped>\n",
              "    .dataframe tbody tr th:only-of-type {\n",
              "        vertical-align: middle;\n",
              "    }\n",
              "\n",
              "    .dataframe tbody tr th {\n",
              "        vertical-align: top;\n",
              "    }\n",
              "\n",
              "    .dataframe thead th {\n",
              "        text-align: right;\n",
              "    }\n",
              "</style>\n",
              "<table border=\"1\" class=\"dataframe\">\n",
              "  <thead>\n",
              "    <tr style=\"text-align: right;\">\n",
              "      <th></th>\n",
              "      <th>id</th>\n",
              "      <th>age</th>\n",
              "      <th>bp</th>\n",
              "      <th>sg</th>\n",
              "      <th>al</th>\n",
              "      <th>su</th>\n",
              "      <th>rbc</th>\n",
              "      <th>pc</th>\n",
              "      <th>pcc</th>\n",
              "      <th>ba</th>\n",
              "      <th>bgr</th>\n",
              "      <th>bu</th>\n",
              "      <th>sc</th>\n",
              "      <th>sod</th>\n",
              "      <th>pot</th>\n",
              "      <th>hemo</th>\n",
              "      <th>pcv</th>\n",
              "      <th>wc</th>\n",
              "      <th>rc</th>\n",
              "      <th>htn</th>\n",
              "      <th>dm</th>\n",
              "      <th>cad</th>\n",
              "      <th>appet</th>\n",
              "      <th>pe</th>\n",
              "      <th>ane</th>\n",
              "      <th>classification</th>\n",
              "    </tr>\n",
              "  </thead>\n",
              "  <tbody>\n",
              "    <tr>\n",
              "      <th>0</th>\n",
              "      <td>0</td>\n",
              "      <td>48.0</td>\n",
              "      <td>80.0</td>\n",
              "      <td>1.020</td>\n",
              "      <td>1.0</td>\n",
              "      <td>0.0</td>\n",
              "      <td>NaN</td>\n",
              "      <td>normal</td>\n",
              "      <td>notpresent</td>\n",
              "      <td>notpresent</td>\n",
              "      <td>121.0</td>\n",
              "      <td>36.0</td>\n",
              "      <td>1.2</td>\n",
              "      <td>NaN</td>\n",
              "      <td>NaN</td>\n",
              "      <td>15.4</td>\n",
              "      <td>44</td>\n",
              "      <td>7800</td>\n",
              "      <td>5.2</td>\n",
              "      <td>yes</td>\n",
              "      <td>yes</td>\n",
              "      <td>no</td>\n",
              "      <td>good</td>\n",
              "      <td>no</td>\n",
              "      <td>no</td>\n",
              "      <td>ckd</td>\n",
              "    </tr>\n",
              "    <tr>\n",
              "      <th>1</th>\n",
              "      <td>1</td>\n",
              "      <td>7.0</td>\n",
              "      <td>50.0</td>\n",
              "      <td>1.020</td>\n",
              "      <td>4.0</td>\n",
              "      <td>0.0</td>\n",
              "      <td>NaN</td>\n",
              "      <td>normal</td>\n",
              "      <td>notpresent</td>\n",
              "      <td>notpresent</td>\n",
              "      <td>NaN</td>\n",
              "      <td>18.0</td>\n",
              "      <td>0.8</td>\n",
              "      <td>NaN</td>\n",
              "      <td>NaN</td>\n",
              "      <td>11.3</td>\n",
              "      <td>38</td>\n",
              "      <td>6000</td>\n",
              "      <td>NaN</td>\n",
              "      <td>no</td>\n",
              "      <td>no</td>\n",
              "      <td>no</td>\n",
              "      <td>good</td>\n",
              "      <td>no</td>\n",
              "      <td>no</td>\n",
              "      <td>ckd</td>\n",
              "    </tr>\n",
              "    <tr>\n",
              "      <th>2</th>\n",
              "      <td>2</td>\n",
              "      <td>62.0</td>\n",
              "      <td>80.0</td>\n",
              "      <td>1.010</td>\n",
              "      <td>2.0</td>\n",
              "      <td>3.0</td>\n",
              "      <td>normal</td>\n",
              "      <td>normal</td>\n",
              "      <td>notpresent</td>\n",
              "      <td>notpresent</td>\n",
              "      <td>423.0</td>\n",
              "      <td>53.0</td>\n",
              "      <td>1.8</td>\n",
              "      <td>NaN</td>\n",
              "      <td>NaN</td>\n",
              "      <td>9.6</td>\n",
              "      <td>31</td>\n",
              "      <td>7500</td>\n",
              "      <td>NaN</td>\n",
              "      <td>no</td>\n",
              "      <td>yes</td>\n",
              "      <td>no</td>\n",
              "      <td>poor</td>\n",
              "      <td>no</td>\n",
              "      <td>yes</td>\n",
              "      <td>ckd</td>\n",
              "    </tr>\n",
              "    <tr>\n",
              "      <th>3</th>\n",
              "      <td>3</td>\n",
              "      <td>48.0</td>\n",
              "      <td>70.0</td>\n",
              "      <td>1.005</td>\n",
              "      <td>4.0</td>\n",
              "      <td>0.0</td>\n",
              "      <td>normal</td>\n",
              "      <td>abnormal</td>\n",
              "      <td>present</td>\n",
              "      <td>notpresent</td>\n",
              "      <td>117.0</td>\n",
              "      <td>56.0</td>\n",
              "      <td>3.8</td>\n",
              "      <td>111.0</td>\n",
              "      <td>2.5</td>\n",
              "      <td>11.2</td>\n",
              "      <td>32</td>\n",
              "      <td>6700</td>\n",
              "      <td>3.9</td>\n",
              "      <td>yes</td>\n",
              "      <td>no</td>\n",
              "      <td>no</td>\n",
              "      <td>poor</td>\n",
              "      <td>yes</td>\n",
              "      <td>yes</td>\n",
              "      <td>ckd</td>\n",
              "    </tr>\n",
              "    <tr>\n",
              "      <th>4</th>\n",
              "      <td>4</td>\n",
              "      <td>51.0</td>\n",
              "      <td>80.0</td>\n",
              "      <td>1.010</td>\n",
              "      <td>2.0</td>\n",
              "      <td>0.0</td>\n",
              "      <td>normal</td>\n",
              "      <td>normal</td>\n",
              "      <td>notpresent</td>\n",
              "      <td>notpresent</td>\n",
              "      <td>106.0</td>\n",
              "      <td>26.0</td>\n",
              "      <td>1.4</td>\n",
              "      <td>NaN</td>\n",
              "      <td>NaN</td>\n",
              "      <td>11.6</td>\n",
              "      <td>35</td>\n",
              "      <td>7300</td>\n",
              "      <td>4.6</td>\n",
              "      <td>no</td>\n",
              "      <td>no</td>\n",
              "      <td>no</td>\n",
              "      <td>good</td>\n",
              "      <td>no</td>\n",
              "      <td>no</td>\n",
              "      <td>ckd</td>\n",
              "    </tr>\n",
              "    <tr>\n",
              "      <th>...</th>\n",
              "      <td>...</td>\n",
              "      <td>...</td>\n",
              "      <td>...</td>\n",
              "      <td>...</td>\n",
              "      <td>...</td>\n",
              "      <td>...</td>\n",
              "      <td>...</td>\n",
              "      <td>...</td>\n",
              "      <td>...</td>\n",
              "      <td>...</td>\n",
              "      <td>...</td>\n",
              "      <td>...</td>\n",
              "      <td>...</td>\n",
              "      <td>...</td>\n",
              "      <td>...</td>\n",
              "      <td>...</td>\n",
              "      <td>...</td>\n",
              "      <td>...</td>\n",
              "      <td>...</td>\n",
              "      <td>...</td>\n",
              "      <td>...</td>\n",
              "      <td>...</td>\n",
              "      <td>...</td>\n",
              "      <td>...</td>\n",
              "      <td>...</td>\n",
              "      <td>...</td>\n",
              "    </tr>\n",
              "    <tr>\n",
              "      <th>395</th>\n",
              "      <td>395</td>\n",
              "      <td>55.0</td>\n",
              "      <td>80.0</td>\n",
              "      <td>1.020</td>\n",
              "      <td>0.0</td>\n",
              "      <td>0.0</td>\n",
              "      <td>normal</td>\n",
              "      <td>normal</td>\n",
              "      <td>notpresent</td>\n",
              "      <td>notpresent</td>\n",
              "      <td>140.0</td>\n",
              "      <td>49.0</td>\n",
              "      <td>0.5</td>\n",
              "      <td>150.0</td>\n",
              "      <td>4.9</td>\n",
              "      <td>15.7</td>\n",
              "      <td>47</td>\n",
              "      <td>6700</td>\n",
              "      <td>4.9</td>\n",
              "      <td>no</td>\n",
              "      <td>no</td>\n",
              "      <td>no</td>\n",
              "      <td>good</td>\n",
              "      <td>no</td>\n",
              "      <td>no</td>\n",
              "      <td>notckd</td>\n",
              "    </tr>\n",
              "    <tr>\n",
              "      <th>396</th>\n",
              "      <td>396</td>\n",
              "      <td>42.0</td>\n",
              "      <td>70.0</td>\n",
              "      <td>1.025</td>\n",
              "      <td>0.0</td>\n",
              "      <td>0.0</td>\n",
              "      <td>normal</td>\n",
              "      <td>normal</td>\n",
              "      <td>notpresent</td>\n",
              "      <td>notpresent</td>\n",
              "      <td>75.0</td>\n",
              "      <td>31.0</td>\n",
              "      <td>1.2</td>\n",
              "      <td>141.0</td>\n",
              "      <td>3.5</td>\n",
              "      <td>16.5</td>\n",
              "      <td>54</td>\n",
              "      <td>7800</td>\n",
              "      <td>6.2</td>\n",
              "      <td>no</td>\n",
              "      <td>no</td>\n",
              "      <td>no</td>\n",
              "      <td>good</td>\n",
              "      <td>no</td>\n",
              "      <td>no</td>\n",
              "      <td>notckd</td>\n",
              "    </tr>\n",
              "    <tr>\n",
              "      <th>397</th>\n",
              "      <td>397</td>\n",
              "      <td>12.0</td>\n",
              "      <td>80.0</td>\n",
              "      <td>1.020</td>\n",
              "      <td>0.0</td>\n",
              "      <td>0.0</td>\n",
              "      <td>normal</td>\n",
              "      <td>normal</td>\n",
              "      <td>notpresent</td>\n",
              "      <td>notpresent</td>\n",
              "      <td>100.0</td>\n",
              "      <td>26.0</td>\n",
              "      <td>0.6</td>\n",
              "      <td>137.0</td>\n",
              "      <td>4.4</td>\n",
              "      <td>15.8</td>\n",
              "      <td>49</td>\n",
              "      <td>6600</td>\n",
              "      <td>5.4</td>\n",
              "      <td>no</td>\n",
              "      <td>no</td>\n",
              "      <td>no</td>\n",
              "      <td>good</td>\n",
              "      <td>no</td>\n",
              "      <td>no</td>\n",
              "      <td>notckd</td>\n",
              "    </tr>\n",
              "    <tr>\n",
              "      <th>398</th>\n",
              "      <td>398</td>\n",
              "      <td>17.0</td>\n",
              "      <td>60.0</td>\n",
              "      <td>1.025</td>\n",
              "      <td>0.0</td>\n",
              "      <td>0.0</td>\n",
              "      <td>normal</td>\n",
              "      <td>normal</td>\n",
              "      <td>notpresent</td>\n",
              "      <td>notpresent</td>\n",
              "      <td>114.0</td>\n",
              "      <td>50.0</td>\n",
              "      <td>1.0</td>\n",
              "      <td>135.0</td>\n",
              "      <td>4.9</td>\n",
              "      <td>14.2</td>\n",
              "      <td>51</td>\n",
              "      <td>7200</td>\n",
              "      <td>5.9</td>\n",
              "      <td>no</td>\n",
              "      <td>no</td>\n",
              "      <td>no</td>\n",
              "      <td>good</td>\n",
              "      <td>no</td>\n",
              "      <td>no</td>\n",
              "      <td>notckd</td>\n",
              "    </tr>\n",
              "    <tr>\n",
              "      <th>399</th>\n",
              "      <td>399</td>\n",
              "      <td>58.0</td>\n",
              "      <td>80.0</td>\n",
              "      <td>1.025</td>\n",
              "      <td>0.0</td>\n",
              "      <td>0.0</td>\n",
              "      <td>normal</td>\n",
              "      <td>normal</td>\n",
              "      <td>notpresent</td>\n",
              "      <td>notpresent</td>\n",
              "      <td>131.0</td>\n",
              "      <td>18.0</td>\n",
              "      <td>1.1</td>\n",
              "      <td>141.0</td>\n",
              "      <td>3.5</td>\n",
              "      <td>15.8</td>\n",
              "      <td>53</td>\n",
              "      <td>6800</td>\n",
              "      <td>6.1</td>\n",
              "      <td>no</td>\n",
              "      <td>no</td>\n",
              "      <td>no</td>\n",
              "      <td>good</td>\n",
              "      <td>no</td>\n",
              "      <td>no</td>\n",
              "      <td>notckd</td>\n",
              "    </tr>\n",
              "  </tbody>\n",
              "</table>\n",
              "<p>400 rows × 26 columns</p>\n",
              "</div>"
            ],
            "text/plain": [
              "      id   age    bp     sg   al   su  ...   dm cad appet   pe  ane  classification\n",
              "0      0  48.0  80.0  1.020  1.0  0.0  ...  yes  no  good   no   no             ckd\n",
              "1      1   7.0  50.0  1.020  4.0  0.0  ...   no  no  good   no   no             ckd\n",
              "2      2  62.0  80.0  1.010  2.0  3.0  ...  yes  no  poor   no  yes             ckd\n",
              "3      3  48.0  70.0  1.005  4.0  0.0  ...   no  no  poor  yes  yes             ckd\n",
              "4      4  51.0  80.0  1.010  2.0  0.0  ...   no  no  good   no   no             ckd\n",
              "..   ...   ...   ...    ...  ...  ...  ...  ...  ..   ...  ...  ...             ...\n",
              "395  395  55.0  80.0  1.020  0.0  0.0  ...   no  no  good   no   no          notckd\n",
              "396  396  42.0  70.0  1.025  0.0  0.0  ...   no  no  good   no   no          notckd\n",
              "397  397  12.0  80.0  1.020  0.0  0.0  ...   no  no  good   no   no          notckd\n",
              "398  398  17.0  60.0  1.025  0.0  0.0  ...   no  no  good   no   no          notckd\n",
              "399  399  58.0  80.0  1.025  0.0  0.0  ...   no  no  good   no   no          notckd\n",
              "\n",
              "[400 rows x 26 columns]"
            ]
          },
          "metadata": {
            "tags": []
          },
          "execution_count": 3
        }
      ]
    },
    {
      "cell_type": "code",
      "metadata": {
        "id": "jmG5JxfbAhBY",
        "colab_type": "code",
        "colab": {
          "base_uri": "https://localhost:8080/",
          "height": 215
        },
        "outputId": "5bf684c8-dd09-4a1a-a305-287cc5b6b56e"
      },
      "source": [
        "df.head()"
      ],
      "execution_count": 4,
      "outputs": [
        {
          "output_type": "execute_result",
          "data": {
            "text/html": [
              "<div>\n",
              "<style scoped>\n",
              "    .dataframe tbody tr th:only-of-type {\n",
              "        vertical-align: middle;\n",
              "    }\n",
              "\n",
              "    .dataframe tbody tr th {\n",
              "        vertical-align: top;\n",
              "    }\n",
              "\n",
              "    .dataframe thead th {\n",
              "        text-align: right;\n",
              "    }\n",
              "</style>\n",
              "<table border=\"1\" class=\"dataframe\">\n",
              "  <thead>\n",
              "    <tr style=\"text-align: right;\">\n",
              "      <th></th>\n",
              "      <th>id</th>\n",
              "      <th>age</th>\n",
              "      <th>bp</th>\n",
              "      <th>sg</th>\n",
              "      <th>al</th>\n",
              "      <th>su</th>\n",
              "      <th>rbc</th>\n",
              "      <th>pc</th>\n",
              "      <th>pcc</th>\n",
              "      <th>ba</th>\n",
              "      <th>bgr</th>\n",
              "      <th>bu</th>\n",
              "      <th>sc</th>\n",
              "      <th>sod</th>\n",
              "      <th>pot</th>\n",
              "      <th>hemo</th>\n",
              "      <th>pcv</th>\n",
              "      <th>wc</th>\n",
              "      <th>rc</th>\n",
              "      <th>htn</th>\n",
              "      <th>dm</th>\n",
              "      <th>cad</th>\n",
              "      <th>appet</th>\n",
              "      <th>pe</th>\n",
              "      <th>ane</th>\n",
              "      <th>classification</th>\n",
              "    </tr>\n",
              "  </thead>\n",
              "  <tbody>\n",
              "    <tr>\n",
              "      <th>0</th>\n",
              "      <td>0</td>\n",
              "      <td>48.0</td>\n",
              "      <td>80.0</td>\n",
              "      <td>1.020</td>\n",
              "      <td>1.0</td>\n",
              "      <td>0.0</td>\n",
              "      <td>NaN</td>\n",
              "      <td>normal</td>\n",
              "      <td>notpresent</td>\n",
              "      <td>notpresent</td>\n",
              "      <td>121.0</td>\n",
              "      <td>36.0</td>\n",
              "      <td>1.2</td>\n",
              "      <td>NaN</td>\n",
              "      <td>NaN</td>\n",
              "      <td>15.4</td>\n",
              "      <td>44</td>\n",
              "      <td>7800</td>\n",
              "      <td>5.2</td>\n",
              "      <td>yes</td>\n",
              "      <td>yes</td>\n",
              "      <td>no</td>\n",
              "      <td>good</td>\n",
              "      <td>no</td>\n",
              "      <td>no</td>\n",
              "      <td>ckd</td>\n",
              "    </tr>\n",
              "    <tr>\n",
              "      <th>1</th>\n",
              "      <td>1</td>\n",
              "      <td>7.0</td>\n",
              "      <td>50.0</td>\n",
              "      <td>1.020</td>\n",
              "      <td>4.0</td>\n",
              "      <td>0.0</td>\n",
              "      <td>NaN</td>\n",
              "      <td>normal</td>\n",
              "      <td>notpresent</td>\n",
              "      <td>notpresent</td>\n",
              "      <td>NaN</td>\n",
              "      <td>18.0</td>\n",
              "      <td>0.8</td>\n",
              "      <td>NaN</td>\n",
              "      <td>NaN</td>\n",
              "      <td>11.3</td>\n",
              "      <td>38</td>\n",
              "      <td>6000</td>\n",
              "      <td>NaN</td>\n",
              "      <td>no</td>\n",
              "      <td>no</td>\n",
              "      <td>no</td>\n",
              "      <td>good</td>\n",
              "      <td>no</td>\n",
              "      <td>no</td>\n",
              "      <td>ckd</td>\n",
              "    </tr>\n",
              "    <tr>\n",
              "      <th>2</th>\n",
              "      <td>2</td>\n",
              "      <td>62.0</td>\n",
              "      <td>80.0</td>\n",
              "      <td>1.010</td>\n",
              "      <td>2.0</td>\n",
              "      <td>3.0</td>\n",
              "      <td>normal</td>\n",
              "      <td>normal</td>\n",
              "      <td>notpresent</td>\n",
              "      <td>notpresent</td>\n",
              "      <td>423.0</td>\n",
              "      <td>53.0</td>\n",
              "      <td>1.8</td>\n",
              "      <td>NaN</td>\n",
              "      <td>NaN</td>\n",
              "      <td>9.6</td>\n",
              "      <td>31</td>\n",
              "      <td>7500</td>\n",
              "      <td>NaN</td>\n",
              "      <td>no</td>\n",
              "      <td>yes</td>\n",
              "      <td>no</td>\n",
              "      <td>poor</td>\n",
              "      <td>no</td>\n",
              "      <td>yes</td>\n",
              "      <td>ckd</td>\n",
              "    </tr>\n",
              "    <tr>\n",
              "      <th>3</th>\n",
              "      <td>3</td>\n",
              "      <td>48.0</td>\n",
              "      <td>70.0</td>\n",
              "      <td>1.005</td>\n",
              "      <td>4.0</td>\n",
              "      <td>0.0</td>\n",
              "      <td>normal</td>\n",
              "      <td>abnormal</td>\n",
              "      <td>present</td>\n",
              "      <td>notpresent</td>\n",
              "      <td>117.0</td>\n",
              "      <td>56.0</td>\n",
              "      <td>3.8</td>\n",
              "      <td>111.0</td>\n",
              "      <td>2.5</td>\n",
              "      <td>11.2</td>\n",
              "      <td>32</td>\n",
              "      <td>6700</td>\n",
              "      <td>3.9</td>\n",
              "      <td>yes</td>\n",
              "      <td>no</td>\n",
              "      <td>no</td>\n",
              "      <td>poor</td>\n",
              "      <td>yes</td>\n",
              "      <td>yes</td>\n",
              "      <td>ckd</td>\n",
              "    </tr>\n",
              "    <tr>\n",
              "      <th>4</th>\n",
              "      <td>4</td>\n",
              "      <td>51.0</td>\n",
              "      <td>80.0</td>\n",
              "      <td>1.010</td>\n",
              "      <td>2.0</td>\n",
              "      <td>0.0</td>\n",
              "      <td>normal</td>\n",
              "      <td>normal</td>\n",
              "      <td>notpresent</td>\n",
              "      <td>notpresent</td>\n",
              "      <td>106.0</td>\n",
              "      <td>26.0</td>\n",
              "      <td>1.4</td>\n",
              "      <td>NaN</td>\n",
              "      <td>NaN</td>\n",
              "      <td>11.6</td>\n",
              "      <td>35</td>\n",
              "      <td>7300</td>\n",
              "      <td>4.6</td>\n",
              "      <td>no</td>\n",
              "      <td>no</td>\n",
              "      <td>no</td>\n",
              "      <td>good</td>\n",
              "      <td>no</td>\n",
              "      <td>no</td>\n",
              "      <td>ckd</td>\n",
              "    </tr>\n",
              "  </tbody>\n",
              "</table>\n",
              "</div>"
            ],
            "text/plain": [
              "   id   age    bp     sg   al   su  ...   dm cad appet   pe  ane  classification\n",
              "0   0  48.0  80.0  1.020  1.0  0.0  ...  yes  no  good   no   no             ckd\n",
              "1   1   7.0  50.0  1.020  4.0  0.0  ...   no  no  good   no   no             ckd\n",
              "2   2  62.0  80.0  1.010  2.0  3.0  ...  yes  no  poor   no  yes             ckd\n",
              "3   3  48.0  70.0  1.005  4.0  0.0  ...   no  no  poor  yes  yes             ckd\n",
              "4   4  51.0  80.0  1.010  2.0  0.0  ...   no  no  good   no   no             ckd\n",
              "\n",
              "[5 rows x 26 columns]"
            ]
          },
          "metadata": {
            "tags": []
          },
          "execution_count": 4
        }
      ]
    },
    {
      "cell_type": "code",
      "metadata": {
        "id": "K9eZ_CpKAhBi",
        "colab_type": "code",
        "colab": {
          "base_uri": "https://localhost:8080/",
          "height": 215
        },
        "outputId": "adb5174c-f630-495a-8c11-9e1f69ee8acf"
      },
      "source": [
        "df.tail()"
      ],
      "execution_count": 5,
      "outputs": [
        {
          "output_type": "execute_result",
          "data": {
            "text/html": [
              "<div>\n",
              "<style scoped>\n",
              "    .dataframe tbody tr th:only-of-type {\n",
              "        vertical-align: middle;\n",
              "    }\n",
              "\n",
              "    .dataframe tbody tr th {\n",
              "        vertical-align: top;\n",
              "    }\n",
              "\n",
              "    .dataframe thead th {\n",
              "        text-align: right;\n",
              "    }\n",
              "</style>\n",
              "<table border=\"1\" class=\"dataframe\">\n",
              "  <thead>\n",
              "    <tr style=\"text-align: right;\">\n",
              "      <th></th>\n",
              "      <th>id</th>\n",
              "      <th>age</th>\n",
              "      <th>bp</th>\n",
              "      <th>sg</th>\n",
              "      <th>al</th>\n",
              "      <th>su</th>\n",
              "      <th>rbc</th>\n",
              "      <th>pc</th>\n",
              "      <th>pcc</th>\n",
              "      <th>ba</th>\n",
              "      <th>bgr</th>\n",
              "      <th>bu</th>\n",
              "      <th>sc</th>\n",
              "      <th>sod</th>\n",
              "      <th>pot</th>\n",
              "      <th>hemo</th>\n",
              "      <th>pcv</th>\n",
              "      <th>wc</th>\n",
              "      <th>rc</th>\n",
              "      <th>htn</th>\n",
              "      <th>dm</th>\n",
              "      <th>cad</th>\n",
              "      <th>appet</th>\n",
              "      <th>pe</th>\n",
              "      <th>ane</th>\n",
              "      <th>classification</th>\n",
              "    </tr>\n",
              "  </thead>\n",
              "  <tbody>\n",
              "    <tr>\n",
              "      <th>395</th>\n",
              "      <td>395</td>\n",
              "      <td>55.0</td>\n",
              "      <td>80.0</td>\n",
              "      <td>1.020</td>\n",
              "      <td>0.0</td>\n",
              "      <td>0.0</td>\n",
              "      <td>normal</td>\n",
              "      <td>normal</td>\n",
              "      <td>notpresent</td>\n",
              "      <td>notpresent</td>\n",
              "      <td>140.0</td>\n",
              "      <td>49.0</td>\n",
              "      <td>0.5</td>\n",
              "      <td>150.0</td>\n",
              "      <td>4.9</td>\n",
              "      <td>15.7</td>\n",
              "      <td>47</td>\n",
              "      <td>6700</td>\n",
              "      <td>4.9</td>\n",
              "      <td>no</td>\n",
              "      <td>no</td>\n",
              "      <td>no</td>\n",
              "      <td>good</td>\n",
              "      <td>no</td>\n",
              "      <td>no</td>\n",
              "      <td>notckd</td>\n",
              "    </tr>\n",
              "    <tr>\n",
              "      <th>396</th>\n",
              "      <td>396</td>\n",
              "      <td>42.0</td>\n",
              "      <td>70.0</td>\n",
              "      <td>1.025</td>\n",
              "      <td>0.0</td>\n",
              "      <td>0.0</td>\n",
              "      <td>normal</td>\n",
              "      <td>normal</td>\n",
              "      <td>notpresent</td>\n",
              "      <td>notpresent</td>\n",
              "      <td>75.0</td>\n",
              "      <td>31.0</td>\n",
              "      <td>1.2</td>\n",
              "      <td>141.0</td>\n",
              "      <td>3.5</td>\n",
              "      <td>16.5</td>\n",
              "      <td>54</td>\n",
              "      <td>7800</td>\n",
              "      <td>6.2</td>\n",
              "      <td>no</td>\n",
              "      <td>no</td>\n",
              "      <td>no</td>\n",
              "      <td>good</td>\n",
              "      <td>no</td>\n",
              "      <td>no</td>\n",
              "      <td>notckd</td>\n",
              "    </tr>\n",
              "    <tr>\n",
              "      <th>397</th>\n",
              "      <td>397</td>\n",
              "      <td>12.0</td>\n",
              "      <td>80.0</td>\n",
              "      <td>1.020</td>\n",
              "      <td>0.0</td>\n",
              "      <td>0.0</td>\n",
              "      <td>normal</td>\n",
              "      <td>normal</td>\n",
              "      <td>notpresent</td>\n",
              "      <td>notpresent</td>\n",
              "      <td>100.0</td>\n",
              "      <td>26.0</td>\n",
              "      <td>0.6</td>\n",
              "      <td>137.0</td>\n",
              "      <td>4.4</td>\n",
              "      <td>15.8</td>\n",
              "      <td>49</td>\n",
              "      <td>6600</td>\n",
              "      <td>5.4</td>\n",
              "      <td>no</td>\n",
              "      <td>no</td>\n",
              "      <td>no</td>\n",
              "      <td>good</td>\n",
              "      <td>no</td>\n",
              "      <td>no</td>\n",
              "      <td>notckd</td>\n",
              "    </tr>\n",
              "    <tr>\n",
              "      <th>398</th>\n",
              "      <td>398</td>\n",
              "      <td>17.0</td>\n",
              "      <td>60.0</td>\n",
              "      <td>1.025</td>\n",
              "      <td>0.0</td>\n",
              "      <td>0.0</td>\n",
              "      <td>normal</td>\n",
              "      <td>normal</td>\n",
              "      <td>notpresent</td>\n",
              "      <td>notpresent</td>\n",
              "      <td>114.0</td>\n",
              "      <td>50.0</td>\n",
              "      <td>1.0</td>\n",
              "      <td>135.0</td>\n",
              "      <td>4.9</td>\n",
              "      <td>14.2</td>\n",
              "      <td>51</td>\n",
              "      <td>7200</td>\n",
              "      <td>5.9</td>\n",
              "      <td>no</td>\n",
              "      <td>no</td>\n",
              "      <td>no</td>\n",
              "      <td>good</td>\n",
              "      <td>no</td>\n",
              "      <td>no</td>\n",
              "      <td>notckd</td>\n",
              "    </tr>\n",
              "    <tr>\n",
              "      <th>399</th>\n",
              "      <td>399</td>\n",
              "      <td>58.0</td>\n",
              "      <td>80.0</td>\n",
              "      <td>1.025</td>\n",
              "      <td>0.0</td>\n",
              "      <td>0.0</td>\n",
              "      <td>normal</td>\n",
              "      <td>normal</td>\n",
              "      <td>notpresent</td>\n",
              "      <td>notpresent</td>\n",
              "      <td>131.0</td>\n",
              "      <td>18.0</td>\n",
              "      <td>1.1</td>\n",
              "      <td>141.0</td>\n",
              "      <td>3.5</td>\n",
              "      <td>15.8</td>\n",
              "      <td>53</td>\n",
              "      <td>6800</td>\n",
              "      <td>6.1</td>\n",
              "      <td>no</td>\n",
              "      <td>no</td>\n",
              "      <td>no</td>\n",
              "      <td>good</td>\n",
              "      <td>no</td>\n",
              "      <td>no</td>\n",
              "      <td>notckd</td>\n",
              "    </tr>\n",
              "  </tbody>\n",
              "</table>\n",
              "</div>"
            ],
            "text/plain": [
              "      id   age    bp     sg   al   su  ...  dm cad appet  pe  ane  classification\n",
              "395  395  55.0  80.0  1.020  0.0  0.0  ...  no  no  good  no   no          notckd\n",
              "396  396  42.0  70.0  1.025  0.0  0.0  ...  no  no  good  no   no          notckd\n",
              "397  397  12.0  80.0  1.020  0.0  0.0  ...  no  no  good  no   no          notckd\n",
              "398  398  17.0  60.0  1.025  0.0  0.0  ...  no  no  good  no   no          notckd\n",
              "399  399  58.0  80.0  1.025  0.0  0.0  ...  no  no  good  no   no          notckd\n",
              "\n",
              "[5 rows x 26 columns]"
            ]
          },
          "metadata": {
            "tags": []
          },
          "execution_count": 5
        }
      ]
    },
    {
      "cell_type": "code",
      "metadata": {
        "id": "SovW8bBGAhBs",
        "colab_type": "code",
        "colab": {
          "base_uri": "https://localhost:8080/",
          "height": 571
        },
        "outputId": "9434455e-0ce9-4ab9-b8f3-23d6a53e93a2"
      },
      "source": [
        "df.info()"
      ],
      "execution_count": 6,
      "outputs": [
        {
          "output_type": "stream",
          "text": [
            "<class 'pandas.core.frame.DataFrame'>\n",
            "RangeIndex: 400 entries, 0 to 399\n",
            "Data columns (total 26 columns):\n",
            " #   Column          Non-Null Count  Dtype  \n",
            "---  ------          --------------  -----  \n",
            " 0   id              400 non-null    int64  \n",
            " 1   age             391 non-null    float64\n",
            " 2   bp              388 non-null    float64\n",
            " 3   sg              353 non-null    float64\n",
            " 4   al              354 non-null    float64\n",
            " 5   su              351 non-null    float64\n",
            " 6   rbc             248 non-null    object \n",
            " 7   pc              335 non-null    object \n",
            " 8   pcc             396 non-null    object \n",
            " 9   ba              396 non-null    object \n",
            " 10  bgr             356 non-null    float64\n",
            " 11  bu              381 non-null    float64\n",
            " 12  sc              383 non-null    float64\n",
            " 13  sod             313 non-null    float64\n",
            " 14  pot             312 non-null    float64\n",
            " 15  hemo            348 non-null    float64\n",
            " 16  pcv             330 non-null    object \n",
            " 17  wc              295 non-null    object \n",
            " 18  rc              270 non-null    object \n",
            " 19  htn             398 non-null    object \n",
            " 20  dm              398 non-null    object \n",
            " 21  cad             398 non-null    object \n",
            " 22  appet           399 non-null    object \n",
            " 23  pe              399 non-null    object \n",
            " 24  ane             399 non-null    object \n",
            " 25  classification  400 non-null    object \n",
            "dtypes: float64(11), int64(1), object(14)\n",
            "memory usage: 81.4+ KB\n"
          ],
          "name": "stdout"
        }
      ]
    },
    {
      "cell_type": "code",
      "metadata": {
        "id": "1xZnnF5OAhB2",
        "colab_type": "code",
        "colab": {
          "base_uri": "https://localhost:8080/",
          "height": 284
        },
        "outputId": "fa7f5385-bf74-4470-9825-6767cf382cff"
      },
      "source": [
        "df.describe()"
      ],
      "execution_count": 7,
      "outputs": [
        {
          "output_type": "execute_result",
          "data": {
            "text/html": [
              "<div>\n",
              "<style scoped>\n",
              "    .dataframe tbody tr th:only-of-type {\n",
              "        vertical-align: middle;\n",
              "    }\n",
              "\n",
              "    .dataframe tbody tr th {\n",
              "        vertical-align: top;\n",
              "    }\n",
              "\n",
              "    .dataframe thead th {\n",
              "        text-align: right;\n",
              "    }\n",
              "</style>\n",
              "<table border=\"1\" class=\"dataframe\">\n",
              "  <thead>\n",
              "    <tr style=\"text-align: right;\">\n",
              "      <th></th>\n",
              "      <th>id</th>\n",
              "      <th>age</th>\n",
              "      <th>bp</th>\n",
              "      <th>sg</th>\n",
              "      <th>al</th>\n",
              "      <th>su</th>\n",
              "      <th>bgr</th>\n",
              "      <th>bu</th>\n",
              "      <th>sc</th>\n",
              "      <th>sod</th>\n",
              "      <th>pot</th>\n",
              "      <th>hemo</th>\n",
              "    </tr>\n",
              "  </thead>\n",
              "  <tbody>\n",
              "    <tr>\n",
              "      <th>count</th>\n",
              "      <td>400.000000</td>\n",
              "      <td>391.000000</td>\n",
              "      <td>388.000000</td>\n",
              "      <td>353.000000</td>\n",
              "      <td>354.000000</td>\n",
              "      <td>351.000000</td>\n",
              "      <td>356.000000</td>\n",
              "      <td>381.000000</td>\n",
              "      <td>383.000000</td>\n",
              "      <td>313.000000</td>\n",
              "      <td>312.000000</td>\n",
              "      <td>348.000000</td>\n",
              "    </tr>\n",
              "    <tr>\n",
              "      <th>mean</th>\n",
              "      <td>199.500000</td>\n",
              "      <td>51.483376</td>\n",
              "      <td>76.469072</td>\n",
              "      <td>1.017408</td>\n",
              "      <td>1.016949</td>\n",
              "      <td>0.450142</td>\n",
              "      <td>148.036517</td>\n",
              "      <td>57.425722</td>\n",
              "      <td>3.072454</td>\n",
              "      <td>137.528754</td>\n",
              "      <td>4.627244</td>\n",
              "      <td>12.526437</td>\n",
              "    </tr>\n",
              "    <tr>\n",
              "      <th>std</th>\n",
              "      <td>115.614301</td>\n",
              "      <td>17.169714</td>\n",
              "      <td>13.683637</td>\n",
              "      <td>0.005717</td>\n",
              "      <td>1.352679</td>\n",
              "      <td>1.099191</td>\n",
              "      <td>79.281714</td>\n",
              "      <td>50.503006</td>\n",
              "      <td>5.741126</td>\n",
              "      <td>10.408752</td>\n",
              "      <td>3.193904</td>\n",
              "      <td>2.912587</td>\n",
              "    </tr>\n",
              "    <tr>\n",
              "      <th>min</th>\n",
              "      <td>0.000000</td>\n",
              "      <td>2.000000</td>\n",
              "      <td>50.000000</td>\n",
              "      <td>1.005000</td>\n",
              "      <td>0.000000</td>\n",
              "      <td>0.000000</td>\n",
              "      <td>22.000000</td>\n",
              "      <td>1.500000</td>\n",
              "      <td>0.400000</td>\n",
              "      <td>4.500000</td>\n",
              "      <td>2.500000</td>\n",
              "      <td>3.100000</td>\n",
              "    </tr>\n",
              "    <tr>\n",
              "      <th>25%</th>\n",
              "      <td>99.750000</td>\n",
              "      <td>42.000000</td>\n",
              "      <td>70.000000</td>\n",
              "      <td>1.010000</td>\n",
              "      <td>0.000000</td>\n",
              "      <td>0.000000</td>\n",
              "      <td>99.000000</td>\n",
              "      <td>27.000000</td>\n",
              "      <td>0.900000</td>\n",
              "      <td>135.000000</td>\n",
              "      <td>3.800000</td>\n",
              "      <td>10.300000</td>\n",
              "    </tr>\n",
              "    <tr>\n",
              "      <th>50%</th>\n",
              "      <td>199.500000</td>\n",
              "      <td>55.000000</td>\n",
              "      <td>80.000000</td>\n",
              "      <td>1.020000</td>\n",
              "      <td>0.000000</td>\n",
              "      <td>0.000000</td>\n",
              "      <td>121.000000</td>\n",
              "      <td>42.000000</td>\n",
              "      <td>1.300000</td>\n",
              "      <td>138.000000</td>\n",
              "      <td>4.400000</td>\n",
              "      <td>12.650000</td>\n",
              "    </tr>\n",
              "    <tr>\n",
              "      <th>75%</th>\n",
              "      <td>299.250000</td>\n",
              "      <td>64.500000</td>\n",
              "      <td>80.000000</td>\n",
              "      <td>1.020000</td>\n",
              "      <td>2.000000</td>\n",
              "      <td>0.000000</td>\n",
              "      <td>163.000000</td>\n",
              "      <td>66.000000</td>\n",
              "      <td>2.800000</td>\n",
              "      <td>142.000000</td>\n",
              "      <td>4.900000</td>\n",
              "      <td>15.000000</td>\n",
              "    </tr>\n",
              "    <tr>\n",
              "      <th>max</th>\n",
              "      <td>399.000000</td>\n",
              "      <td>90.000000</td>\n",
              "      <td>180.000000</td>\n",
              "      <td>1.025000</td>\n",
              "      <td>5.000000</td>\n",
              "      <td>5.000000</td>\n",
              "      <td>490.000000</td>\n",
              "      <td>391.000000</td>\n",
              "      <td>76.000000</td>\n",
              "      <td>163.000000</td>\n",
              "      <td>47.000000</td>\n",
              "      <td>17.800000</td>\n",
              "    </tr>\n",
              "  </tbody>\n",
              "</table>\n",
              "</div>"
            ],
            "text/plain": [
              "               id         age          bp  ...         sod         pot        hemo\n",
              "count  400.000000  391.000000  388.000000  ...  313.000000  312.000000  348.000000\n",
              "mean   199.500000   51.483376   76.469072  ...  137.528754    4.627244   12.526437\n",
              "std    115.614301   17.169714   13.683637  ...   10.408752    3.193904    2.912587\n",
              "min      0.000000    2.000000   50.000000  ...    4.500000    2.500000    3.100000\n",
              "25%     99.750000   42.000000   70.000000  ...  135.000000    3.800000   10.300000\n",
              "50%    199.500000   55.000000   80.000000  ...  138.000000    4.400000   12.650000\n",
              "75%    299.250000   64.500000   80.000000  ...  142.000000    4.900000   15.000000\n",
              "max    399.000000   90.000000  180.000000  ...  163.000000   47.000000   17.800000\n",
              "\n",
              "[8 rows x 12 columns]"
            ]
          },
          "metadata": {
            "tags": []
          },
          "execution_count": 7
        }
      ]
    },
    {
      "cell_type": "code",
      "metadata": {
        "id": "BgNF2TeFAhB_",
        "colab_type": "code",
        "colab": {
          "base_uri": "https://localhost:8080/",
          "height": 470
        },
        "outputId": "4cf0dfa6-95a3-48d8-d620-f06d583f564c"
      },
      "source": [
        "df.isnull().any()"
      ],
      "execution_count": 8,
      "outputs": [
        {
          "output_type": "execute_result",
          "data": {
            "text/plain": [
              "id                False\n",
              "age                True\n",
              "bp                 True\n",
              "sg                 True\n",
              "al                 True\n",
              "su                 True\n",
              "rbc                True\n",
              "pc                 True\n",
              "pcc                True\n",
              "ba                 True\n",
              "bgr                True\n",
              "bu                 True\n",
              "sc                 True\n",
              "sod                True\n",
              "pot                True\n",
              "hemo               True\n",
              "pcv                True\n",
              "wc                 True\n",
              "rc                 True\n",
              "htn                True\n",
              "dm                 True\n",
              "cad                True\n",
              "appet              True\n",
              "pe                 True\n",
              "ane                True\n",
              "classification    False\n",
              "dtype: bool"
            ]
          },
          "metadata": {
            "tags": []
          },
          "execution_count": 8
        }
      ]
    },
    {
      "cell_type": "code",
      "metadata": {
        "id": "4mj-YxXYAhCH",
        "colab_type": "code",
        "colab": {
          "base_uri": "https://localhost:8080/",
          "height": 34
        },
        "outputId": "9a9009c3-efad-4880-cfc3-8516c7a43814"
      },
      "source": [
        "df.shape"
      ],
      "execution_count": 9,
      "outputs": [
        {
          "output_type": "execute_result",
          "data": {
            "text/plain": [
              "(400, 26)"
            ]
          },
          "metadata": {
            "tags": []
          },
          "execution_count": 9
        }
      ]
    },
    {
      "cell_type": "markdown",
      "metadata": {
        "id": "q3Ev1DERAhCb",
        "colab_type": "text"
      },
      "source": [
        "# handling missing data"
      ]
    },
    {
      "cell_type": "code",
      "metadata": {
        "id": "gIN0of78AhCc",
        "colab_type": "code",
        "colab": {
          "base_uri": "https://localhost:8080/",
          "height": 470
        },
        "outputId": "7a88d347-7cef-420f-bb63-d7d6cab0f2a2"
      },
      "source": [
        "df.isnull().any()"
      ],
      "execution_count": 10,
      "outputs": [
        {
          "output_type": "execute_result",
          "data": {
            "text/plain": [
              "id                False\n",
              "age                True\n",
              "bp                 True\n",
              "sg                 True\n",
              "al                 True\n",
              "su                 True\n",
              "rbc                True\n",
              "pc                 True\n",
              "pcc                True\n",
              "ba                 True\n",
              "bgr                True\n",
              "bu                 True\n",
              "sc                 True\n",
              "sod                True\n",
              "pot                True\n",
              "hemo               True\n",
              "pcv                True\n",
              "wc                 True\n",
              "rc                 True\n",
              "htn                True\n",
              "dm                 True\n",
              "cad                True\n",
              "appet              True\n",
              "pe                 True\n",
              "ane                True\n",
              "classification    False\n",
              "dtype: bool"
            ]
          },
          "metadata": {
            "tags": []
          },
          "execution_count": 10
        }
      ]
    },
    {
      "cell_type": "code",
      "metadata": {
        "id": "mTMEF9FFAhCl",
        "colab_type": "code",
        "colab": {
          "base_uri": "https://localhost:8080/",
          "height": 402
        },
        "outputId": "b8446550-7e08-4796-8933-2b0471e6a307"
      },
      "source": [
        "#Create a list of columns to retain\n",
        "columns_to_retain = [\"sg\", \"al\", \"sc\", \"hemo\",\n",
        "                         \"pcv\", \"wbcc\", \"rbcc\", \"htn\", \"classification\"]\n",
        "\n",
        "#columns_to_retain = df.columns, Drop the columns that are not in columns_to_retain\n",
        "df = df.drop([col for col in df.columns if not col in columns_to_retain], axis=1)\n",
        "    \n",
        "# Drop the rows with na or missing values\n",
        "df = df.dropna(axis=0)\n",
        "df"
      ],
      "execution_count": 11,
      "outputs": [
        {
          "output_type": "execute_result",
          "data": {
            "text/html": [
              "<div>\n",
              "<style scoped>\n",
              "    .dataframe tbody tr th:only-of-type {\n",
              "        vertical-align: middle;\n",
              "    }\n",
              "\n",
              "    .dataframe tbody tr th {\n",
              "        vertical-align: top;\n",
              "    }\n",
              "\n",
              "    .dataframe thead th {\n",
              "        text-align: right;\n",
              "    }\n",
              "</style>\n",
              "<table border=\"1\" class=\"dataframe\">\n",
              "  <thead>\n",
              "    <tr style=\"text-align: right;\">\n",
              "      <th></th>\n",
              "      <th>sg</th>\n",
              "      <th>al</th>\n",
              "      <th>sc</th>\n",
              "      <th>hemo</th>\n",
              "      <th>pcv</th>\n",
              "      <th>htn</th>\n",
              "      <th>classification</th>\n",
              "    </tr>\n",
              "  </thead>\n",
              "  <tbody>\n",
              "    <tr>\n",
              "      <th>0</th>\n",
              "      <td>1.020</td>\n",
              "      <td>1.0</td>\n",
              "      <td>1.2</td>\n",
              "      <td>15.4</td>\n",
              "      <td>44</td>\n",
              "      <td>yes</td>\n",
              "      <td>ckd</td>\n",
              "    </tr>\n",
              "    <tr>\n",
              "      <th>1</th>\n",
              "      <td>1.020</td>\n",
              "      <td>4.0</td>\n",
              "      <td>0.8</td>\n",
              "      <td>11.3</td>\n",
              "      <td>38</td>\n",
              "      <td>no</td>\n",
              "      <td>ckd</td>\n",
              "    </tr>\n",
              "    <tr>\n",
              "      <th>2</th>\n",
              "      <td>1.010</td>\n",
              "      <td>2.0</td>\n",
              "      <td>1.8</td>\n",
              "      <td>9.6</td>\n",
              "      <td>31</td>\n",
              "      <td>no</td>\n",
              "      <td>ckd</td>\n",
              "    </tr>\n",
              "    <tr>\n",
              "      <th>3</th>\n",
              "      <td>1.005</td>\n",
              "      <td>4.0</td>\n",
              "      <td>3.8</td>\n",
              "      <td>11.2</td>\n",
              "      <td>32</td>\n",
              "      <td>yes</td>\n",
              "      <td>ckd</td>\n",
              "    </tr>\n",
              "    <tr>\n",
              "      <th>4</th>\n",
              "      <td>1.010</td>\n",
              "      <td>2.0</td>\n",
              "      <td>1.4</td>\n",
              "      <td>11.6</td>\n",
              "      <td>35</td>\n",
              "      <td>no</td>\n",
              "      <td>ckd</td>\n",
              "    </tr>\n",
              "    <tr>\n",
              "      <th>...</th>\n",
              "      <td>...</td>\n",
              "      <td>...</td>\n",
              "      <td>...</td>\n",
              "      <td>...</td>\n",
              "      <td>...</td>\n",
              "      <td>...</td>\n",
              "      <td>...</td>\n",
              "    </tr>\n",
              "    <tr>\n",
              "      <th>395</th>\n",
              "      <td>1.020</td>\n",
              "      <td>0.0</td>\n",
              "      <td>0.5</td>\n",
              "      <td>15.7</td>\n",
              "      <td>47</td>\n",
              "      <td>no</td>\n",
              "      <td>notckd</td>\n",
              "    </tr>\n",
              "    <tr>\n",
              "      <th>396</th>\n",
              "      <td>1.025</td>\n",
              "      <td>0.0</td>\n",
              "      <td>1.2</td>\n",
              "      <td>16.5</td>\n",
              "      <td>54</td>\n",
              "      <td>no</td>\n",
              "      <td>notckd</td>\n",
              "    </tr>\n",
              "    <tr>\n",
              "      <th>397</th>\n",
              "      <td>1.020</td>\n",
              "      <td>0.0</td>\n",
              "      <td>0.6</td>\n",
              "      <td>15.8</td>\n",
              "      <td>49</td>\n",
              "      <td>no</td>\n",
              "      <td>notckd</td>\n",
              "    </tr>\n",
              "    <tr>\n",
              "      <th>398</th>\n",
              "      <td>1.025</td>\n",
              "      <td>0.0</td>\n",
              "      <td>1.0</td>\n",
              "      <td>14.2</td>\n",
              "      <td>51</td>\n",
              "      <td>no</td>\n",
              "      <td>notckd</td>\n",
              "    </tr>\n",
              "    <tr>\n",
              "      <th>399</th>\n",
              "      <td>1.025</td>\n",
              "      <td>0.0</td>\n",
              "      <td>1.1</td>\n",
              "      <td>15.8</td>\n",
              "      <td>53</td>\n",
              "      <td>no</td>\n",
              "      <td>notckd</td>\n",
              "    </tr>\n",
              "  </tbody>\n",
              "</table>\n",
              "<p>287 rows × 7 columns</p>\n",
              "</div>"
            ],
            "text/plain": [
              "        sg   al   sc  hemo pcv  htn classification\n",
              "0    1.020  1.0  1.2  15.4  44  yes            ckd\n",
              "1    1.020  4.0  0.8  11.3  38   no            ckd\n",
              "2    1.010  2.0  1.8   9.6  31   no            ckd\n",
              "3    1.005  4.0  3.8  11.2  32  yes            ckd\n",
              "4    1.010  2.0  1.4  11.6  35   no            ckd\n",
              "..     ...  ...  ...   ...  ..  ...            ...\n",
              "395  1.020  0.0  0.5  15.7  47   no         notckd\n",
              "396  1.025  0.0  1.2  16.5  54   no         notckd\n",
              "397  1.020  0.0  0.6  15.8  49   no         notckd\n",
              "398  1.025  0.0  1.0  14.2  51   no         notckd\n",
              "399  1.025  0.0  1.1  15.8  53   no         notckd\n",
              "\n",
              "[287 rows x 7 columns]"
            ]
          },
          "metadata": {
            "tags": []
          },
          "execution_count": 11
        }
      ]
    },
    {
      "cell_type": "markdown",
      "metadata": {
        "id": "O-Sj1ETiAhCt",
        "colab_type": "text"
      },
      "source": [
        "# taking care of missing data"
      ]
    },
    {
      "cell_type": "code",
      "metadata": {
        "id": "IsE9pI_wAhCv",
        "colab_type": "code",
        "colab": {
          "base_uri": "https://localhost:8080/",
          "height": 151
        },
        "outputId": "f401faa9-dc8a-485c-af54-310271613f58"
      },
      "source": [
        "df.shape\n",
        "df[\"sg\"].fillna(df[\"sg\"].mean(), inplace=True)\n",
        "df[\"al\"].fillna(df[\"al\"].mean(), inplace=True)\n",
        "df[\"sc\"].fillna(df[\"sc\"].mean(), inplace=True)\n",
        "df[\"hemo\"].fillna(df[\"hemo\"].mean(), inplace=True)\n",
        "df[\"pcv\"].fillna(df[\"pcv\"].median(), inplace=True)\n",
        "df.isnull().any()\n"
      ],
      "execution_count": 12,
      "outputs": [
        {
          "output_type": "execute_result",
          "data": {
            "text/plain": [
              "sg                False\n",
              "al                False\n",
              "sc                False\n",
              "hemo              False\n",
              "pcv               False\n",
              "htn               False\n",
              "classification    False\n",
              "dtype: bool"
            ]
          },
          "metadata": {
            "tags": []
          },
          "execution_count": 12
        }
      ]
    },
    {
      "cell_type": "markdown",
      "metadata": {
        "id": "PXMUYQLbAhC5",
        "colab_type": "text"
      },
      "source": [
        "# data visualization (before prediction)"
      ]
    },
    {
      "cell_type": "code",
      "metadata": {
        "id": "pMdOjb9cAhC6",
        "colab_type": "code",
        "colab": {
          "base_uri": "https://localhost:8080/",
          "height": 286
        },
        "outputId": "d11a0f96-6b4b-47f5-b093-424e7ccf78ca"
      },
      "source": [
        "sb.heatmap(df.corr(),annot=True)"
      ],
      "execution_count": 13,
      "outputs": [
        {
          "output_type": "execute_result",
          "data": {
            "text/plain": [
              "<matplotlib.axes._subplots.AxesSubplot at 0x7f3f9c3cacc0>"
            ]
          },
          "metadata": {
            "tags": []
          },
          "execution_count": 13
        },
        {
          "output_type": "display_data",
          "data": {
            "image/png": "[encoded data removed]",
            "text/plain": [
              "<Figure size 432x288 with 2 Axes>"
            ]
          },
          "metadata": {
            "tags": [],
            "needs_background": "light"
          }
        }
      ]
    },
    {
      "cell_type": "code",
      "metadata": {
        "id": "LvhVDkivAhDD",
        "colab_type": "code",
        "colab": {
          "base_uri": "https://localhost:8080/",
          "height": 423
        },
        "outputId": "dada206f-bfca-4c65-cab0-70cff889b26c"
      },
      "source": [
        "fig1=plt.figure()\n",
        "ax=fig1.add_axes([0,0,1,1])\n",
        "ax.plot(df['sg'],df['classification'],color='g',label='specific gravity')#starting green line\n",
        "ax.plot(df['al'],df['classification'],color='b',label='albumin')\n",
        "ax.plot(df['sc'],df['classification'],color='y',label='serum creatinine')\n",
        "ax.plot(df['hemo'],df['classification'],color='r',label='hemoglobin')\n",
        "ax.plot(df['pcv'],df['classification'],color='g',label='packed cell volume')\n",
        "ax.legend() "
      ],
      "execution_count": 14,
      "outputs": [
        {
          "output_type": "execute_result",
          "data": {
            "text/plain": [
              "<matplotlib.legend.Legend at 0x7f3f983638d0>"
            ]
          },
          "metadata": {
            "tags": []
          },
          "execution_count": 14
        },
        {
          "output_type": "stream",
          "text": [
            "/usr/local/lib/python3.6/dist-packages/matplotlib/backends/backend_agg.py:214: RuntimeWarning: Glyph 9 missing from current font.\n",
            "  font.set_text(s, 0.0, flags=flags)\n",
            "/usr/local/lib/python3.6/dist-packages/matplotlib/backends/backend_agg.py:183: RuntimeWarning: Glyph 9 missing from current font.\n",
            "  font.set_text(s, 0, flags=flags)\n"
          ],
          "name": "stderr"
        },
        {
          "output_type": "display_data",
          "data": {
            "image/png": "[encoded data removed]",
            "text/plain": [
              "<Figure size 432x288 with 1 Axes>"
            ]
          },
          "metadata": {
            "tags": [],
            "needs_background": "light"
          }
        }
      ]
    },
    {
      "cell_type": "markdown",
      "metadata": {
        "id": "XWx7_VsRAhEF",
        "colab_type": "text"
      },
      "source": [
        "# separating data into dependent and independent"
      ]
    },
    {
      "cell_type": "code",
      "metadata": {
        "id": "q8NULyfIAhEG",
        "colab_type": "code",
        "colab": {
          "base_uri": "https://localhost:8080/",
          "height": 134
        },
        "outputId": "92b8ea9c-181d-49bf-e9d8-6c7052b49df9"
      },
      "source": [
        "x = df.iloc[:,0:6].values\n",
        "x"
      ],
      "execution_count": 15,
      "outputs": [
        {
          "output_type": "execute_result",
          "data": {
            "text/plain": [
              "array([[1.02, 1.0, 1.2, 15.4, '44', 'yes'],\n",
              "       [1.02, 4.0, 0.8, 11.3, '38', 'no'],\n",
              "       [1.01, 2.0, 1.8, 9.6, '31', 'no'],\n",
              "       ...,\n",
              "       [1.02, 0.0, 0.6, 15.8, '49', 'no'],\n",
              "       [1.025, 0.0, 1.0, 14.2, '51', 'no'],\n",
              "       [1.025, 0.0, 1.1, 15.8, '53', 'no']], dtype=object)"
            ]
          },
          "metadata": {
            "tags": []
          },
          "execution_count": 15
        }
      ]
    },
    {
      "cell_type": "code",
      "metadata": {
        "id": "aoskdzWYAhEO",
        "colab_type": "code",
        "colab": {
          "base_uri": "https://localhost:8080/",
          "height": 1000
        },
        "outputId": "d5d62657-f7c9-4857-ecb4-80275368cd4f"
      },
      "source": [
        "y=df.iloc[:,6:].values\n",
        "y"
      ],
      "execution_count": 16,
      "outputs": [
        {
          "output_type": "execute_result",
          "data": {
            "text/plain": [
              "array([['ckd'],\n",
              "       ['ckd'],\n",
              "       ['ckd'],\n",
              "       ['ckd'],\n",
              "       ['ckd'],\n",
              "       ['ckd'],\n",
              "       ['ckd'],\n",
              "       ['ckd'],\n",
              "       ['ckd'],\n",
              "       ['ckd'],\n",
              "       ['ckd'],\n",
              "       ['ckd'],\n",
              "       ['ckd'],\n",
              "       ['ckd'],\n",
              "       ['ckd'],\n",
              "       ['ckd'],\n",
              "       ['ckd'],\n",
              "       ['ckd'],\n",
              "       ['ckd'],\n",
              "       ['ckd'],\n",
              "       ['ckd'],\n",
              "       ['ckd'],\n",
              "       ['ckd'],\n",
              "       ['ckd'],\n",
              "       ['ckd'],\n",
              "       ['ckd'],\n",
              "       ['ckd'],\n",
              "       ['ckd'],\n",
              "       ['ckd'],\n",
              "       ['ckd'],\n",
              "       ['ckd'],\n",
              "       ['ckd'],\n",
              "       ['ckd'],\n",
              "       ['ckd'],\n",
              "       ['ckd'],\n",
              "       ['ckd'],\n",
              "       ['ckd'],\n",
              "       ['ckd'],\n",
              "       ['ckd'],\n",
              "       ['ckd'],\n",
              "       ['ckd'],\n",
              "       ['ckd'],\n",
              "       ['ckd'],\n",
              "       ['ckd'],\n",
              "       ['ckd'],\n",
              "       ['ckd'],\n",
              "       ['ckd'],\n",
              "       ['ckd'],\n",
              "       ['ckd'],\n",
              "       ['ckd'],\n",
              "       ['ckd'],\n",
              "       ['ckd'],\n",
              "       ['ckd'],\n",
              "       ['ckd'],\n",
              "       ['ckd'],\n",
              "       ['ckd'],\n",
              "       ['ckd'],\n",
              "       ['ckd'],\n",
              "       ['ckd'],\n",
              "       ['ckd'],\n",
              "       ['ckd'],\n",
              "       ['ckd'],\n",
              "       ['ckd'],\n",
              "       ['ckd'],\n",
              "       ['ckd'],\n",
              "       ['ckd'],\n",
              "       ['ckd'],\n",
              "       ['ckd'],\n",
              "       ['ckd'],\n",
              "       ['ckd'],\n",
              "       ['ckd'],\n",
              "       ['ckd'],\n",
              "       ['ckd'],\n",
              "       ['ckd'],\n",
              "       ['ckd'],\n",
              "       ['ckd'],\n",
              "       ['ckd'],\n",
              "       ['ckd'],\n",
              "       ['ckd'],\n",
              "       ['ckd'],\n",
              "       ['ckd'],\n",
              "       ['ckd'],\n",
              "       ['ckd'],\n",
              "       ['ckd'],\n",
              "       ['ckd'],\n",
              "       ['ckd'],\n",
              "       ['ckd'],\n",
              "       ['ckd'],\n",
              "       ['ckd'],\n",
              "       ['ckd'],\n",
              "       ['ckd'],\n",
              "       ['ckd'],\n",
              "       ['ckd'],\n",
              "       ['ckd'],\n",
              "       ['ckd'],\n",
              "       ['ckd'],\n",
              "       ['ckd'],\n",
              "       ['ckd'],\n",
              "       ['ckd'],\n",
              "       ['ckd'],\n",
              "       ['ckd'],\n",
              "       ['ckd'],\n",
              "       ['ckd'],\n",
              "       ['ckd'],\n",
              "       ['ckd'],\n",
              "       ['ckd'],\n",
              "       ['ckd'],\n",
              "       ['ckd'],\n",
              "       ['ckd'],\n",
              "       ['ckd'],\n",
              "       ['ckd'],\n",
              "       ['ckd'],\n",
              "       ['ckd'],\n",
              "       ['ckd'],\n",
              "       ['ckd'],\n",
              "       ['ckd'],\n",
              "       ['ckd'],\n",
              "       ['ckd'],\n",
              "       ['ckd'],\n",
              "       ['ckd'],\n",
              "       ['ckd'],\n",
              "       ['ckd'],\n",
              "       ['ckd'],\n",
              "       ['ckd'],\n",
              "       ['ckd'],\n",
              "       ['ckd'],\n",
              "       ['ckd'],\n",
              "       ['ckd'],\n",
              "       ['ckd'],\n",
              "       ['ckd'],\n",
              "       ['ckd'],\n",
              "       ['ckd'],\n",
              "       ['ckd'],\n",
              "       ['ckd'],\n",
              "       ['ckd'],\n",
              "       ['ckd'],\n",
              "       ['ckd'],\n",
              "       ['ckd'],\n",
              "       ['ckd'],\n",
              "       ['ckd'],\n",
              "       ['ckd'],\n",
              "       ['ckd'],\n",
              "       ['ckd'],\n",
              "       ['ckd'],\n",
              "       ['ckd'],\n",
              "       ['ckd'],\n",
              "       ['ckd'],\n",
              "       ['ckd'],\n",
              "       ['ckd'],\n",
              "       ['ckd'],\n",
              "       ['ckd'],\n",
              "       ['ckd'],\n",
              "       ['ckd'],\n",
              "       ['ckd'],\n",
              "       ['ckd'],\n",
              "       ['notckd'],\n",
              "       ['notckd'],\n",
              "       ['notckd'],\n",
              "       ['notckd'],\n",
              "       ['notckd'],\n",
              "       ['notckd'],\n",
              "       ['notckd'],\n",
              "       ['notckd'],\n",
              "       ['notckd'],\n",
              "       ['notckd'],\n",
              "       ['notckd'],\n",
              "       ['notckd'],\n",
              "       ['notckd'],\n",
              "       ['notckd'],\n",
              "       ['notckd'],\n",
              "       ['notckd'],\n",
              "       ['notckd'],\n",
              "       ['notckd'],\n",
              "       ['notckd'],\n",
              "       ['notckd'],\n",
              "       ['notckd'],\n",
              "       ['notckd'],\n",
              "       ['notckd'],\n",
              "       ['notckd'],\n",
              "       ['notckd'],\n",
              "       ['notckd'],\n",
              "       ['notckd'],\n",
              "       ['notckd'],\n",
              "       ['notckd'],\n",
              "       ['notckd'],\n",
              "       ['notckd'],\n",
              "       ['notckd'],\n",
              "       ['notckd'],\n",
              "       ['notckd'],\n",
              "       ['notckd'],\n",
              "       ['notckd'],\n",
              "       ['notckd'],\n",
              "       ['notckd'],\n",
              "       ['notckd'],\n",
              "       ['notckd'],\n",
              "       ['notckd'],\n",
              "       ['notckd'],\n",
              "       ['notckd'],\n",
              "       ['notckd'],\n",
              "       ['notckd'],\n",
              "       ['notckd'],\n",
              "       ['notckd'],\n",
              "       ['notckd'],\n",
              "       ['notckd'],\n",
              "       ['notckd'],\n",
              "       ['notckd'],\n",
              "       ['notckd'],\n",
              "       ['notckd'],\n",
              "       ['notckd'],\n",
              "       ['notckd'],\n",
              "       ['notckd'],\n",
              "       ['notckd'],\n",
              "       ['notckd'],\n",
              "       ['notckd'],\n",
              "       ['notckd'],\n",
              "       ['notckd'],\n",
              "       ['notckd'],\n",
              "       ['notckd'],\n",
              "       ['notckd'],\n",
              "       ['notckd'],\n",
              "       ['notckd'],\n",
              "       ['notckd'],\n",
              "       ['notckd'],\n",
              "       ['notckd'],\n",
              "       ['notckd'],\n",
              "       ['notckd'],\n",
              "       ['notckd'],\n",
              "       ['notckd'],\n",
              "       ['notckd'],\n",
              "       ['notckd'],\n",
              "       ['notckd'],\n",
              "       ['notckd'],\n",
              "       ['notckd'],\n",
              "       ['notckd'],\n",
              "       ['notckd'],\n",
              "       ['notckd'],\n",
              "       ['notckd'],\n",
              "       ['notckd'],\n",
              "       ['notckd'],\n",
              "       ['notckd'],\n",
              "       ['notckd'],\n",
              "       ['notckd'],\n",
              "       ['notckd'],\n",
              "       ['notckd'],\n",
              "       ['notckd'],\n",
              "       ['notckd'],\n",
              "       ['notckd'],\n",
              "       ['notckd'],\n",
              "       ['notckd'],\n",
              "       ['notckd'],\n",
              "       ['notckd'],\n",
              "       ['notckd'],\n",
              "       ['notckd'],\n",
              "       ['notckd'],\n",
              "       ['notckd'],\n",
              "       ['notckd'],\n",
              "       ['notckd'],\n",
              "       ['notckd'],\n",
              "       ['notckd'],\n",
              "       ['notckd'],\n",
              "       ['notckd'],\n",
              "       ['notckd'],\n",
              "       ['notckd'],\n",
              "       ['notckd'],\n",
              "       ['notckd'],\n",
              "       ['notckd'],\n",
              "       ['notckd'],\n",
              "       ['notckd'],\n",
              "       ['notckd'],\n",
              "       ['notckd'],\n",
              "       ['notckd'],\n",
              "       ['notckd'],\n",
              "       ['notckd'],\n",
              "       ['notckd'],\n",
              "       ['notckd'],\n",
              "       ['notckd'],\n",
              "       ['notckd'],\n",
              "       ['notckd'],\n",
              "       ['notckd'],\n",
              "       ['notckd'],\n",
              "       ['notckd'],\n",
              "       ['notckd'],\n",
              "       ['notckd'],\n",
              "       ['notckd'],\n",
              "       ['notckd'],\n",
              "       ['notckd'],\n",
              "       ['notckd']], dtype=object)"
            ]
          },
          "metadata": {
            "tags": []
          },
          "execution_count": 16
        }
      ]
    },
    {
      "cell_type": "code",
      "metadata": {
        "id": "cO__uUA2AhEZ",
        "colab_type": "code",
        "colab": {}
      },
      "source": [
        ""
      ],
      "execution_count": 16,
      "outputs": []
    },
    {
      "cell_type": "markdown",
      "metadata": {
        "id": "W0TamedPAhEh",
        "colab_type": "text"
      },
      "source": [
        "# one hot encoding"
      ]
    },
    {
      "cell_type": "code",
      "metadata": {
        "id": "5eyTC30LAhEi",
        "colab_type": "code",
        "colab": {
          "base_uri": "https://localhost:8080/",
          "height": 134
        },
        "outputId": "83388d97-f9d0-4a83-8850-251a2fcd50e4"
      },
      "source": [
        "ct=ColumnTransformer([(\"on\",OneHotEncoder(),[5])],remainder=\"passthrough\")\n",
        "x=ct.fit_transform(x)\n",
        "x"
      ],
      "execution_count": 17,
      "outputs": [
        {
          "output_type": "execute_result",
          "data": {
            "text/plain": [
              "array([[0.0, 1.0, 1.02, ..., 1.2, 15.4, '44'],\n",
              "       [1.0, 0.0, 1.02, ..., 0.8, 11.3, '38'],\n",
              "       [1.0, 0.0, 1.01, ..., 1.8, 9.6, '31'],\n",
              "       ...,\n",
              "       [1.0, 0.0, 1.02, ..., 0.6, 15.8, '49'],\n",
              "       [1.0, 0.0, 1.025, ..., 1.0, 14.2, '51'],\n",
              "       [1.0, 0.0, 1.025, ..., 1.1, 15.8, '53']], dtype=object)"
            ]
          },
          "metadata": {
            "tags": []
          },
          "execution_count": 17
        }
      ]
    },
    {
      "cell_type": "markdown",
      "metadata": {
        "id": "F-u5ge1oAhEq",
        "colab_type": "text"
      },
      "source": [
        "# removing dummy variables in x"
      ]
    },
    {
      "cell_type": "code",
      "metadata": {
        "id": "DYlb6Q_xAhEr",
        "colab_type": "code",
        "colab": {
          "base_uri": "https://localhost:8080/",
          "height": 134
        },
        "outputId": "3f1b966f-a027-4db4-93d2-ddd5b9e921a6"
      },
      "source": [
        "x=x[:,1:]\n",
        "x"
      ],
      "execution_count": 18,
      "outputs": [
        {
          "output_type": "execute_result",
          "data": {
            "text/plain": [
              "array([[1.0, 1.02, 1.0, 1.2, 15.4, '44'],\n",
              "       [0.0, 1.02, 4.0, 0.8, 11.3, '38'],\n",
              "       [0.0, 1.01, 2.0, 1.8, 9.6, '31'],\n",
              "       ...,\n",
              "       [0.0, 1.02, 0.0, 0.6, 15.8, '49'],\n",
              "       [0.0, 1.025, 0.0, 1.0, 14.2, '51'],\n",
              "       [0.0, 1.025, 0.0, 1.1, 15.8, '53']], dtype=object)"
            ]
          },
          "metadata": {
            "tags": []
          },
          "execution_count": 18
        }
      ]
    },
    {
      "cell_type": "markdown",
      "metadata": {
        "id": "MusfAUI-AhEz",
        "colab_type": "text"
      },
      "source": [
        "# #label encoding"
      ]
    },
    {
      "cell_type": "code",
      "metadata": {
        "id": "WSwoiJchAhE0",
        "colab_type": "code",
        "colab": {
          "base_uri": "https://localhost:8080/",
          "height": 306
        },
        "outputId": "229ed36b-0b1f-4039-e445-334e5baf2f7c"
      },
      "source": [
        "le=LabelEncoder()\n",
        "y=le.fit_transform(y)\n",
        "y"
      ],
      "execution_count": 19,
      "outputs": [
        {
          "output_type": "stream",
          "text": [
            "/usr/local/lib/python3.6/dist-packages/sklearn/preprocessing/_label.py:251: DataConversionWarning: A column-vector y was passed when a 1d array was expected. Please change the shape of y to (n_samples, ), for example using ravel().\n",
            "  y = column_or_1d(y, warn=True)\n"
          ],
          "name": "stderr"
        },
        {
          "output_type": "execute_result",
          "data": {
            "text/plain": [
              "array([0, 0, 0, 0, 0, 0, 0, 0, 0, 0, 0, 0, 0, 0, 0, 0, 0, 0, 0, 0, 0, 0,\n",
              "       0, 0, 0, 0, 0, 0, 0, 0, 0, 0, 0, 0, 0, 0, 0, 0, 0, 0, 0, 0, 0, 0,\n",
              "       0, 0, 0, 0, 0, 0, 0, 0, 0, 0, 0, 0, 0, 0, 0, 0, 0, 0, 0, 0, 0, 0,\n",
              "       0, 0, 0, 0, 0, 0, 0, 0, 0, 0, 0, 0, 0, 0, 0, 0, 0, 0, 0, 0, 0, 0,\n",
              "       0, 0, 0, 0, 0, 0, 0, 0, 0, 0, 0, 0, 0, 0, 0, 0, 0, 0, 0, 0, 0, 0,\n",
              "       0, 0, 0, 0, 0, 0, 0, 0, 0, 0, 0, 0, 0, 0, 0, 0, 0, 0, 0, 0, 0, 0,\n",
              "       0, 0, 0, 0, 0, 0, 0, 0, 0, 0, 0, 0, 0, 0, 0, 0, 0, 0, 0, 0, 0, 0,\n",
              "       0, 1, 1, 1, 1, 1, 1, 1, 1, 1, 1, 1, 1, 1, 1, 1, 1, 1, 1, 1, 1, 1,\n",
              "       1, 1, 1, 1, 1, 1, 1, 1, 1, 1, 1, 1, 1, 1, 1, 1, 1, 1, 1, 1, 1, 1,\n",
              "       1, 1, 1, 1, 1, 1, 1, 1, 1, 1, 1, 1, 1, 1, 1, 1, 1, 1, 1, 1, 1, 1,\n",
              "       1, 1, 1, 1, 1, 1, 1, 1, 1, 1, 1, 1, 1, 1, 1, 1, 1, 1, 1, 1, 1, 1,\n",
              "       1, 1, 1, 1, 1, 1, 1, 1, 1, 1, 1, 1, 1, 1, 1, 1, 1, 1, 1, 1, 1, 1,\n",
              "       1, 1, 1, 1, 1, 1, 1, 1, 1, 1, 1, 1, 1, 1, 1, 1, 1, 1, 1, 1, 1, 1,\n",
              "       1])"
            ]
          },
          "metadata": {
            "tags": []
          },
          "execution_count": 19
        }
      ]
    },
    {
      "cell_type": "markdown",
      "metadata": {
        "id": "8vzHVXHYAhE9",
        "colab_type": "text"
      },
      "source": [
        "# feature scaling"
      ]
    },
    {
      "cell_type": "code",
      "metadata": {
        "id": "8uN6ceD4AhFA",
        "colab_type": "code",
        "colab": {
          "base_uri": "https://localhost:8080/",
          "height": 134
        },
        "outputId": "81cd1fda-2389-4cee-a92f-071ed75f32fe"
      },
      "source": [
        "\"\"\" MIN MAX SCALER \"\"\"\n",
        "  \n",
        "min_max_scaler = preprocessing.MinMaxScaler(feature_range =(0, 1)) \n",
        "  \n",
        "# Scaled feature \n",
        "x= min_max_scaler.fit_transform(x) \n",
        "x.round() \n",
        "  \n"
      ],
      "execution_count": 20,
      "outputs": [
        {
          "output_type": "execute_result",
          "data": {
            "text/plain": [
              "array([[1., 1., 0., 0., 1., 1.],\n",
              "       [0., 1., 1., 0., 1., 1.],\n",
              "       [0., 0., 0., 0., 0., 0.],\n",
              "       ...,\n",
              "       [0., 1., 0., 0., 1., 1.],\n",
              "       [0., 1., 0., 0., 1., 1.],\n",
              "       [0., 1., 0., 0., 1., 1.]])"
            ]
          },
          "metadata": {
            "tags": []
          },
          "execution_count": 20
        }
      ]
    },
    {
      "cell_type": "markdown",
      "metadata": {
        "id": "mJ3FVUgWAhFY",
        "colab_type": "text"
      },
      "source": [
        "# splitting the data into training and testing sets"
      ]
    },
    {
      "cell_type": "code",
      "metadata": {
        "id": "nvkdwObZAhFZ",
        "colab_type": "code",
        "colab": {}
      },
      "source": [
        "x_train, x_test, y_train, y_test = train_test_split(x,y, test_size=0.2, random_state=0)"
      ],
      "execution_count": 22,
      "outputs": []
    },
    {
      "cell_type": "markdown",
      "metadata": {
        "id": "K8VLp5V7AhFh",
        "colab_type": "text"
      },
      "source": [
        "# APPLYING SUITABLE CLASSIFICATION ALGORITHM"
      ]
    },
    {
      "cell_type": "code",
      "metadata": {
        "id": "T8CF4qO1AhFs",
        "colab_type": "code",
        "colab": {
          "base_uri": "https://localhost:8080/",
          "height": 118
        },
        "outputId": "087c2809-691d-484e-ae45-46f7a4ae4f3e"
      },
      "source": [
        "#rfc = RandomForestClassifier (criterion = 'entropy',random_state = 0)\n",
        "from sklearn.tree import DecisionTreeClassifier\n",
        "dt= DecisionTreeClassifier(criterion='gini',random_state=0)\n",
        "dt.fit(x_train,y_train)\n"
      ],
      "execution_count": 23,
      "outputs": [
        {
          "output_type": "execute_result",
          "data": {
            "text/plain": [
              "DecisionTreeClassifier(ccp_alpha=0.0, class_weight=None, criterion='gini',\n",
              "                       max_depth=None, max_features=None, max_leaf_nodes=None,\n",
              "                       min_impurity_decrease=0.0, min_impurity_split=None,\n",
              "                       min_samples_leaf=1, min_samples_split=2,\n",
              "                       min_weight_fraction_leaf=0.0, presort='deprecated',\n",
              "                       random_state=0, splitter='best')"
            ]
          },
          "metadata": {
            "tags": []
          },
          "execution_count": 23
        }
      ]
    },
    {
      "cell_type": "markdown",
      "metadata": {
        "id": "lDvV5nF_AhF2",
        "colab_type": "text"
      },
      "source": [
        "# training and testing the model"
      ]
    },
    {
      "cell_type": "code",
      "metadata": {
        "id": "0txr7uy8AhF4",
        "colab_type": "code",
        "colab": {
          "base_uri": "https://localhost:8080/",
          "height": 1000
        },
        "outputId": "a4def525-6704-4f79-83d1-ab49a9c7f80a"
      },
      "source": [
        "x_test"
      ],
      "execution_count": 24,
      "outputs": [
        {
          "output_type": "execute_result",
          "data": {
            "text/plain": [
              "array([[1.        , 0.25      , 0.2       , 0.05932203, 0.70748299,\n",
              "        0.68888889],\n",
              "       [0.        , 1.        , 0.        , 0.00847458, 0.89795918,\n",
              "        0.86666667],\n",
              "       [1.        , 0.75      , 0.2       , 0.02542373, 0.50340136,\n",
              "        0.51111111],\n",
              "       [0.        , 0.75      , 0.        , 0.01271186, 0.68707483,\n",
              "        0.77777778],\n",
              "       [0.        , 0.75      , 0.        , 0.02118644, 0.91836735,\n",
              "        0.75555556],\n",
              "       [0.        , 0.5       , 0.2       , 0.24152542, 0.29931973,\n",
              "        0.4       ],\n",
              "       [0.        , 0.5       , 0.4       , 0.08898305, 0.68707483,\n",
              "        0.71111111],\n",
              "       [0.        , 0.75      , 0.        , 0.02118644, 0.97959184,\n",
              "        0.68888889],\n",
              "       [1.        , 1.        , 0.        , 0.03813559, 0.65306122,\n",
              "        0.62222222],\n",
              "       [1.        , 0.25      , 0.6       , 0.09745763, 0.63945578,\n",
              "        0.62222222],\n",
              "       [0.        , 1.        , 0.        , 0.00423729, 0.91836735,\n",
              "        0.68888889],\n",
              "       [0.        , 0.75      , 0.        , 0.00847458, 0.93197279,\n",
              "        0.71111111],\n",
              "       [1.        , 0.5       , 0.6       , 0.0720339 , 0.44897959,\n",
              "        0.42222222],\n",
              "       [1.        , 0.5       , 0.8       , 0.22033898, 0.34013605,\n",
              "        0.31111111],\n",
              "       [0.        , 0.25      , 0.        , 0.05084746, 0.57823129,\n",
              "        0.6       ],\n",
              "       [0.        , 0.75      , 0.        , 0.00423729, 0.92517007,\n",
              "        0.95555556],\n",
              "       [0.        , 0.75      , 0.        , 0.00423729, 0.82312925,\n",
              "        0.68888889],\n",
              "       [0.        , 0.75      , 0.        , 0.03389831, 0.68707483,\n",
              "        0.71111111],\n",
              "       [0.        , 1.        , 0.        , 0.00847458, 0.68027211,\n",
              "        0.8       ],\n",
              "       [0.        , 0.5       , 0.        , 0.01694915, 0.59183673,\n",
              "        0.55555556],\n",
              "       [1.        , 0.25      , 0.8       , 0.54661017, 0.        ,\n",
              "        0.        ],\n",
              "       [0.        , 0.75      , 0.        , 0.00423729, 0.71428571,\n",
              "        0.77777778],\n",
              "       [1.        , 0.25      , 0.        , 0.06779661, 0.40136054,\n",
              "        0.4       ],\n",
              "       [0.        , 0.75      , 0.        , 0.01694915, 0.74829932,\n",
              "        0.8       ],\n",
              "       [1.        , 0.5       , 0.4       , 0.05508475, 0.63945578,\n",
              "        0.53333333],\n",
              "       [0.        , 0.25      , 0.8       , 0.05508475, 0.3537415 ,\n",
              "        0.31111111],\n",
              "       [0.        , 0.75      , 0.        , 0.02966102, 0.86394558,\n",
              "        0.71111111],\n",
              "       [0.        , 0.75      , 0.        , 0.01694915, 1.        ,\n",
              "        0.77777778],\n",
              "       [1.        , 0.5       , 0.        , 0.04661017, 0.3877551 ,\n",
              "        0.35555556],\n",
              "       [0.        , 1.        , 0.        , 0.02966102, 0.86394558,\n",
              "        0.97777778],\n",
              "       [0.        , 1.        , 0.        , 0.01271186, 0.97278912,\n",
              "        0.95555556],\n",
              "       [1.        , 0.5       , 0.6       , 0.06355932, 0.52380952,\n",
              "        0.53333333],\n",
              "       [1.        , 0.5       , 0.6       , 0.02966102, 0.61904762,\n",
              "        0.66666667],\n",
              "       [0.        , 0.75      , 0.        , 0.02966102, 0.94557823,\n",
              "        0.91111111],\n",
              "       [1.        , 0.5       , 1.        , 0.53389831, 0.33333333,\n",
              "        0.33333333],\n",
              "       [0.        , 0.75      , 0.        , 0.00423729, 0.85714286,\n",
              "        0.84444444],\n",
              "       [0.        , 0.75      , 0.6       , 0.05932203, 0.54421769,\n",
              "        0.6       ],\n",
              "       [0.        , 0.75      , 0.        , 0.02118644, 0.65306122,\n",
              "        0.73333333],\n",
              "       [0.        , 0.5       , 0.4       , 0.02966102, 0.63265306,\n",
              "        0.77777778],\n",
              "       [0.        , 0.25      , 0.2       , 0.09745763, 0.55102041,\n",
              "        0.6       ],\n",
              "       [1.        , 0.25      , 0.6       , 0.16949153, 0.46938776,\n",
              "        0.51111111],\n",
              "       [0.        , 1.        , 0.        , 0.01694915, 0.67346939,\n",
              "        0.88888889],\n",
              "       [0.        , 1.        , 0.        , 0.02542373, 0.85714286,\n",
              "        0.91111111],\n",
              "       [0.        , 1.        , 0.        , 0.00847458, 0.73469388,\n",
              "        0.86666667],\n",
              "       [0.        , 0.75      , 0.        , 0.00847458, 0.71428571,\n",
              "        0.93333333],\n",
              "       [1.        , 0.25      , 0.6       , 0.48305085, 0.34013605,\n",
              "        0.33333333],\n",
              "       [0.        , 1.        , 0.        , 0.03389831, 0.83673469,\n",
              "        0.73333333],\n",
              "       [0.        , 1.        , 0.        , 0.02966102, 0.72108844,\n",
              "        0.8       ],\n",
              "       [0.        , 0.5       , 0.6       , 0.03389831, 0.52380952,\n",
              "        0.53333333],\n",
              "       [0.        , 0.75      , 0.        , 0.02966102, 0.83673469,\n",
              "        0.73333333],\n",
              "       [1.        , 0.25      , 0.4       , 0.11864407, 0.67346939,\n",
              "        0.68888889],\n",
              "       [0.        , 1.        , 0.        , 0.01271186, 0.67346939,\n",
              "        1.        ],\n",
              "       [0.        , 0.75      , 0.        , 0.00847458, 0.91156463,\n",
              "        0.95555556],\n",
              "       [0.        , 1.        , 0.        , 0.02542373, 0.82993197,\n",
              "        0.77777778],\n",
              "       [0.        , 0.75      , 0.        , 0.03813559, 0.63945578,\n",
              "        0.62222222],\n",
              "       [1.        , 0.75      , 0.4       , 0.08474576, 0.70068027,\n",
              "        0.84444444],\n",
              "       [0.        , 1.        , 0.        , 0.01271186, 0.79591837,\n",
              "        0.8       ],\n",
              "       [1.        , 1.        , 0.        , 0.06355932, 0.46258503,\n",
              "        0.44444444]])"
            ]
          },
          "metadata": {
            "tags": []
          },
          "execution_count": 24
        }
      ]
    },
    {
      "cell_type": "code",
      "metadata": {
        "id": "1sArSL5hAhF_",
        "colab_type": "code",
        "colab": {
          "base_uri": "https://localhost:8080/",
          "height": 235
        },
        "outputId": "153bc974-52d4-4d84-e28f-6a196ef56509"
      },
      "source": [
        "x_train"
      ],
      "execution_count": 25,
      "outputs": [
        {
          "output_type": "execute_result",
          "data": {
            "text/plain": [
              "array([[0.        , 0.25      , 0.2       , 0.02966102, 0.80952381,\n",
              "        0.86666667],\n",
              "       [0.        , 0.75      , 0.        , 0.03389831, 0.89115646,\n",
              "        0.91111111],\n",
              "       [0.        , 0.75      , 0.        , 0.03389831, 0.85714286,\n",
              "        0.77777778],\n",
              "       ...,\n",
              "       [1.        , 0.5       , 0.6       , 0.12288136, 0.55782313,\n",
              "        0.48888889],\n",
              "       [0.        , 0.25      , 0.4       , 0.12288136, 0.53061224,\n",
              "        0.62222222],\n",
              "       [0.        , 1.        , 0.        , 0.02118644, 0.73469388,\n",
              "        0.86666667]])"
            ]
          },
          "metadata": {
            "tags": []
          },
          "execution_count": 25
        }
      ]
    },
    {
      "cell_type": "code",
      "metadata": {
        "id": "eHDh0Q3fAhGH",
        "colab_type": "code",
        "colab": {
          "base_uri": "https://localhost:8080/",
          "height": 67
        },
        "outputId": "f763dc13-037d-49f1-f215-a3bf2c735474"
      },
      "source": [
        "y_test"
      ],
      "execution_count": 26,
      "outputs": [
        {
          "output_type": "execute_result",
          "data": {
            "text/plain": [
              "array([0, 1, 0, 1, 1, 0, 0, 1, 0, 0, 1, 1, 0, 0, 0, 1, 1, 1, 1, 0, 0, 1,\n",
              "       0, 1, 0, 0, 1, 1, 0, 1, 1, 0, 0, 1, 0, 1, 0, 0, 0, 0, 0, 1, 1, 1,\n",
              "       1, 0, 1, 1, 0, 1, 0, 1, 1, 1, 0, 0, 1, 0])"
            ]
          },
          "metadata": {
            "tags": []
          },
          "execution_count": 26
        }
      ]
    },
    {
      "cell_type": "code",
      "metadata": {
        "id": "VNzzZ8ZzAhGQ",
        "colab_type": "code",
        "colab": {
          "base_uri": "https://localhost:8080/",
          "height": 202
        },
        "outputId": "97a3afab-77f4-4ace-f8b4-b8a8bd921057"
      },
      "source": [
        "y_train"
      ],
      "execution_count": 27,
      "outputs": [
        {
          "output_type": "execute_result",
          "data": {
            "text/plain": [
              "array([0, 1, 1, 1, 1, 1, 0, 0, 1, 0, 1, 0, 1, 0, 1, 1, 1, 1, 0, 1, 0, 0,\n",
              "       1, 1, 1, 1, 0, 0, 0, 1, 1, 1, 1, 0, 1, 1, 1, 1, 0, 0, 0, 0, 0, 0,\n",
              "       1, 0, 0, 0, 0, 0, 0, 1, 0, 0, 1, 0, 0, 0, 0, 1, 0, 0, 0, 0, 1, 0,\n",
              "       0, 0, 1, 1, 1, 0, 1, 0, 0, 1, 0, 1, 0, 0, 0, 0, 1, 1, 0, 1, 1, 1,\n",
              "       0, 0, 0, 1, 0, 1, 0, 0, 1, 0, 0, 0, 1, 0, 1, 1, 0, 0, 1, 1, 0, 1,\n",
              "       1, 0, 1, 0, 1, 1, 0, 0, 1, 0, 1, 0, 1, 1, 0, 1, 0, 0, 0, 0, 1, 1,\n",
              "       0, 0, 0, 0, 1, 0, 0, 1, 0, 0, 0, 1, 0, 0, 1, 1, 1, 0, 0, 1, 0, 1,\n",
              "       0, 0, 1, 1, 0, 1, 0, 0, 1, 0, 0, 0, 0, 0, 1, 0, 0, 0, 1, 1, 0, 0,\n",
              "       0, 0, 0, 1, 0, 0, 0, 1, 1, 0, 0, 0, 1, 0, 1, 1, 0, 1, 1, 0, 0, 0,\n",
              "       1, 1, 0, 1, 1, 0, 1, 1, 0, 1, 0, 0, 1, 1, 1, 1, 0, 1, 0, 0, 0, 1,\n",
              "       1, 1, 0, 1, 1, 1, 0, 0, 1])"
            ]
          },
          "metadata": {
            "tags": []
          },
          "execution_count": 27
        }
      ]
    },
    {
      "cell_type": "code",
      "metadata": {
        "id": "Jezc2KfpAhGi",
        "colab_type": "code",
        "colab": {
          "base_uri": "https://localhost:8080/",
          "height": 118
        },
        "outputId": "a45a7634-b27f-4e74-943f-1184e2d8f7e5"
      },
      "source": [
        "dt.fit(x_train,y_train)"
      ],
      "execution_count": 28,
      "outputs": [
        {
          "output_type": "execute_result",
          "data": {
            "text/plain": [
              "DecisionTreeClassifier(ccp_alpha=0.0, class_weight=None, criterion='gini',\n",
              "                       max_depth=None, max_features=None, max_leaf_nodes=None,\n",
              "                       min_impurity_decrease=0.0, min_impurity_split=None,\n",
              "                       min_samples_leaf=1, min_samples_split=2,\n",
              "                       min_weight_fraction_leaf=0.0, presort='deprecated',\n",
              "                       random_state=0, splitter='best')"
            ]
          },
          "metadata": {
            "tags": []
          },
          "execution_count": 28
        }
      ]
    },
    {
      "cell_type": "code",
      "metadata": {
        "id": "XQ7sda9dAhGq",
        "colab_type": "code",
        "colab": {
          "base_uri": "https://localhost:8080/",
          "height": 67
        },
        "outputId": "b6633172-13d7-465a-ce63-9116ebcea04e"
      },
      "source": [
        "dt.predict(x_test)"
      ],
      "execution_count": 29,
      "outputs": [
        {
          "output_type": "execute_result",
          "data": {
            "text/plain": [
              "array([0, 1, 0, 0, 1, 0, 0, 1, 0, 0, 1, 1, 0, 0, 0, 1, 1, 0, 1, 0, 0, 1,\n",
              "       0, 1, 0, 0, 1, 1, 0, 1, 1, 0, 0, 1, 0, 1, 0, 0, 0, 0, 0, 1, 1, 1,\n",
              "       1, 0, 1, 1, 0, 1, 0, 1, 1, 1, 0, 0, 1, 0])"
            ]
          },
          "metadata": {
            "tags": []
          },
          "execution_count": 29
        }
      ]
    },
    {
      "cell_type": "code",
      "metadata": {
        "id": "AvDxN8R7AhG0",
        "colab_type": "code",
        "colab": {
          "base_uri": "https://localhost:8080/",
          "height": 67
        },
        "outputId": "a98d3b91-757e-4f05-dee9-ecc1af11cfa1"
      },
      "source": [
        "y_pred=dt.predict(x_test)\n",
        "y_pred"
      ],
      "execution_count": 30,
      "outputs": [
        {
          "output_type": "execute_result",
          "data": {
            "text/plain": [
              "array([0, 1, 0, 0, 1, 0, 0, 1, 0, 0, 1, 1, 0, 0, 0, 1, 1, 0, 1, 0, 0, 1,\n",
              "       0, 1, 0, 0, 1, 1, 0, 1, 1, 0, 0, 1, 0, 1, 0, 0, 0, 0, 0, 1, 1, 1,\n",
              "       1, 0, 1, 1, 0, 1, 0, 1, 1, 1, 0, 0, 1, 0])"
            ]
          },
          "metadata": {
            "tags": []
          },
          "execution_count": 30
        }
      ]
    },
    {
      "cell_type": "code",
      "metadata": {
        "id": "UPM8BNu-AhG-",
        "colab_type": "code",
        "colab": {
          "base_uri": "https://localhost:8080/",
          "height": 34
        },
        "outputId": "141bfd18-061d-47a1-b57b-3c0427bdda6d"
      },
      "source": [
        "x_train.shape"
      ],
      "execution_count": 31,
      "outputs": [
        {
          "output_type": "execute_result",
          "data": {
            "text/plain": [
              "(229, 6)"
            ]
          },
          "metadata": {
            "tags": []
          },
          "execution_count": 31
        }
      ]
    },
    {
      "cell_type": "markdown",
      "metadata": {
        "id": "Iaio_CyVAhHJ",
        "colab_type": "text"
      },
      "source": [
        "# evaluation metrics"
      ]
    },
    {
      "cell_type": "code",
      "metadata": {
        "id": "3PlEUsnZAhHS",
        "colab_type": "code",
        "colab": {}
      },
      "source": [
        "acc_score=accuracy_score(y_test,y_pred)"
      ],
      "execution_count": 32,
      "outputs": []
    },
    {
      "cell_type": "code",
      "metadata": {
        "id": "aQIqRz1RAhHm",
        "colab_type": "code",
        "colab": {
          "base_uri": "https://localhost:8080/",
          "height": 34
        },
        "outputId": "395320af-4d55-4e2c-9c4a-bec189d78b22"
      },
      "source": [
        "import sklearn.metrics as metrics\n",
        "fpr,tpr,threshold=metrics.roc_curve(y_test,y_pred)\n",
        "roc_auc=metrics.auc(fpr,tpr)\n",
        "roc_auc"
      ],
      "execution_count": 33,
      "outputs": [
        {
          "output_type": "execute_result",
          "data": {
            "text/plain": [
              "0.9655172413793103"
            ]
          },
          "metadata": {
            "tags": []
          },
          "execution_count": 33
        }
      ]
    },
    {
      "cell_type": "code",
      "metadata": {
        "id": "GitFPiWbAhHu",
        "colab_type": "code",
        "colab": {
          "base_uri": "https://localhost:8080/",
          "height": 314
        },
        "outputId": "1f0f1a65-79ae-4b25-ff84-7113eb1178a9"
      },
      "source": [
        "plt.title(\"ROC\")\n",
        "plt.plot(fpr,tpr,'b')\n",
        "plt.legend()\n",
        "plt.plot"
      ],
      "execution_count": 34,
      "outputs": [
        {
          "output_type": "stream",
          "text": [
            "No handles with labels found to put in legend.\n"
          ],
          "name": "stderr"
        },
        {
          "output_type": "execute_result",
          "data": {
            "text/plain": [
              "<function matplotlib.pyplot.plot>"
            ]
          },
          "metadata": {
            "tags": []
          },
          "execution_count": 34
        },
        {
          "output_type": "display_data",
          "data": {
            "image/png": "[encoded data removed]",
            "text/plain": [
              "<Figure size 432x288 with 1 Axes>"
            ]
          },
          "metadata": {
            "tags": [],
            "needs_background": "light"
          }
        }
      ]
    },
    {
      "cell_type": "code",
      "metadata": {
        "id": "tOJY9HhWAhH3",
        "colab_type": "code",
        "colab": {
          "base_uri": "https://localhost:8080/",
          "height": 34
        },
        "outputId": "e3f20f45-0a3b-4e44-b28a-f5c51785797d"
      },
      "source": [
        "from joblib import dump\n",
        "dump(dt,'dt.save')"
      ],
      "execution_count": 35,
      "outputs": [
        {
          "output_type": "execute_result",
          "data": {
            "text/plain": [
              "['dt.save']"
            ]
          },
          "metadata": {
            "tags": []
          },
          "execution_count": 35
        }
      ]
    }
  ]
}